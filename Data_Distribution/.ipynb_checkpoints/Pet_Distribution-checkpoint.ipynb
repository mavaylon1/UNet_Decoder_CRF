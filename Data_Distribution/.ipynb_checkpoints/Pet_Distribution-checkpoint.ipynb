{
 "cells": [
  {
   "cell_type": "code",
   "execution_count": 17,
   "metadata": {},
   "outputs": [],
   "source": [
    "import pandas as pd\n",
    "from glob import glob\n",
    "import re"
   ]
  },
  {
   "cell_type": "code",
   "execution_count": 2,
   "metadata": {},
   "outputs": [],
   "source": [
    "shuffled_data= glob(\"/Users/mavaylon/Research/Data1/train/img/*\")"
   ]
  },
  {
   "cell_type": "code",
   "execution_count": 14,
   "metadata": {},
   "outputs": [],
   "source": [
    "imgs=(glob('/Users/mavaylon/Research/Pet_Resized_PNG_backup/images_png_resized/*'))"
   ]
  },
  {
   "cell_type": "code",
   "execution_count": 24,
   "metadata": {},
   "outputs": [],
   "source": [
    "imgs2=[x[67:] for x in imgs]"
   ]
  },
  {
   "cell_type": "code",
   "execution_count": 25,
   "metadata": {},
   "outputs": [],
   "source": [
    "animals=[]\n",
    "for image in imgs2:\n",
    "    animals.append(re.findall(\"^(.+?)(?=\\\\d).*\",image)[0])"
   ]
  },
  {
   "cell_type": "code",
   "execution_count": 26,
   "metadata": {},
   "outputs": [],
   "source": [
    "animal_types=list(set(animals))"
   ]
  },
  {
   "cell_type": "code",
   "execution_count": 27,
   "metadata": {},
   "outputs": [],
   "source": [
    "amount2=[]\n",
    "total2=0\n",
    "train2=0\n",
    "for animal in animal_types:\n",
    "    res = [i for i in shuffled_data if animal in i] \n",
    "    total2+=len(res)\n",
    "    train2+=.8*len(res)\n",
    "    amount2.append((animal,len(res)))"
   ]
  },
  {
   "cell_type": "code",
   "execution_count": 28,
   "metadata": {},
   "outputs": [
    {
     "data": {
      "text/plain": [
       "[('samoyed_', 154),\n",
       " ('havanese_', 167),\n",
       " ('British_Shorthair_', 152),\n",
       " ('basset_hound_', 163),\n",
       " ('leonberger_', 163),\n",
       " ('Persian_', 159),\n",
       " ('Egyptian_Mau_', 154),\n",
       " ('Bombay_', 157),\n",
       " ('wheaten_terrier_', 148),\n",
       " ('german_shorthaired_', 165),\n",
       " ('shiba_inu_', 156),\n",
       " ('saint_bernard_', 157),\n",
       " ('english_setter_', 162),\n",
       " ('japanese_chin_', 161),\n",
       " ('Ragdoll_', 167),\n",
       " ('boxer_', 154),\n",
       " ('Birman_', 161),\n",
       " ('american_bulldog_', 165),\n",
       " ('Russian_Blue_', 162),\n",
       " ('Maine_Coon_', 163),\n",
       " ('pug_', 166),\n",
       " ('Bengal_', 161),\n",
       " ('english_cocker_spaniel_', 166),\n",
       " ('pomeranian_', 162),\n",
       " ('american_pit_bull_terrier_', 163),\n",
       " ('newfoundland_', 169),\n",
       " ('Siamese_', 163),\n",
       " ('Abyssinian_', 157),\n",
       " ('miniature_pinscher_', 165),\n",
       " ('chihuahua_', 165),\n",
       " ('yorkshire_terrier_', 165),\n",
       " ('keeshond_', 159),\n",
       " ('staffordshire_bull_terrier_', 153),\n",
       " ('Sphynx_', 144),\n",
       " ('scottish_terrier_', 172),\n",
       " ('great_pyrenees_', 145),\n",
       " ('beagle_', 147)]"
      ]
     },
     "execution_count": 28,
     "metadata": {},
     "output_type": "execute_result"
    }
   ],
   "source": [
    "amount2"
   ]
  },
  {
   "cell_type": "code",
   "execution_count": 29,
   "metadata": {},
   "outputs": [],
   "source": [
    "non_strat_data={\"Breed\": [i[0] for i in amount2], 'Amount': [i[1] for i in amount2]}\n",
    "df_non_strat = pd.DataFrame(non_strat_data)"
   ]
  },
  {
   "cell_type": "code",
   "execution_count": 32,
   "metadata": {},
   "outputs": [
    {
     "data": {
      "text/html": [
       "<div>\n",
       "<style scoped>\n",
       "    .dataframe tbody tr th:only-of-type {\n",
       "        vertical-align: middle;\n",
       "    }\n",
       "\n",
       "    .dataframe tbody tr th {\n",
       "        vertical-align: top;\n",
       "    }\n",
       "\n",
       "    .dataframe thead th {\n",
       "        text-align: right;\n",
       "    }\n",
       "</style>\n",
       "<table border=\"1\" class=\"dataframe\">\n",
       "  <thead>\n",
       "    <tr style=\"text-align: right;\">\n",
       "      <th></th>\n",
       "      <th>Breed</th>\n",
       "      <th>Amount</th>\n",
       "    </tr>\n",
       "  </thead>\n",
       "  <tbody>\n",
       "    <tr>\n",
       "      <th>0</th>\n",
       "      <td>samoyed_</td>\n",
       "      <td>154</td>\n",
       "    </tr>\n",
       "    <tr>\n",
       "      <th>1</th>\n",
       "      <td>havanese_</td>\n",
       "      <td>167</td>\n",
       "    </tr>\n",
       "    <tr>\n",
       "      <th>2</th>\n",
       "      <td>British_Shorthair_</td>\n",
       "      <td>152</td>\n",
       "    </tr>\n",
       "    <tr>\n",
       "      <th>3</th>\n",
       "      <td>basset_hound_</td>\n",
       "      <td>163</td>\n",
       "    </tr>\n",
       "    <tr>\n",
       "      <th>4</th>\n",
       "      <td>leonberger_</td>\n",
       "      <td>163</td>\n",
       "    </tr>\n",
       "  </tbody>\n",
       "</table>\n",
       "</div>"
      ],
      "text/plain": [
       "                Breed  Amount\n",
       "0            samoyed_     154\n",
       "1           havanese_     167\n",
       "2  British_Shorthair_     152\n",
       "3       basset_hound_     163\n",
       "4         leonberger_     163"
      ]
     },
     "execution_count": 32,
     "metadata": {},
     "output_type": "execute_result"
    }
   ],
   "source": [
    "df_non_strat.head()"
   ]
  },
  {
   "cell_type": "code",
   "execution_count": 31,
   "metadata": {},
   "outputs": [
    {
     "data": {
      "text/plain": [
       "<matplotlib.axes._subplots.AxesSubplot at 0x7fe40e731150>"
      ]
     },
     "execution_count": 31,
     "metadata": {},
     "output_type": "execute_result"
    },
    {
     "data": {
      "image/png": "[encoded data removed]",
      "text/plain": [
       "<Figure size 432x288 with 1 Axes>"
      ]
     },
     "metadata": {
      "needs_background": "light"
     },
     "output_type": "display_data"
    }
   ],
   "source": [
    "df_non_strat.plot.bar(x='Breed', y='Amount', rot=90)"
   ]
  },
  {
   "cell_type": "code",
   "execution_count": null,
   "metadata": {},
   "outputs": [],
   "source": []
  }
 ],
 "metadata": {
  "kernelspec": {
   "display_name": "Python 3",
   "language": "python",
   "name": "python3"
  },
  "language_info": {
   "codemirror_mode": {
    "name": "ipython",
    "version": 3
   },
   "file_extension": ".py",
   "mimetype": "text/x-python",
   "name": "python",
   "nbconvert_exporter": "python",
   "pygments_lexer": "ipython3",
   "version": "3.7.6"
  }
 },
 "nbformat": 4,
 "nbformat_minor": 4
}
