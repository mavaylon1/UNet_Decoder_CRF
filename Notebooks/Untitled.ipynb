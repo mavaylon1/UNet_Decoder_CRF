{
 "cells": [
  {
   "cell_type": "code",
   "execution_count": 1,
   "id": "c0c884bc",
   "metadata": {},
   "outputs": [
    {
     "name": "stderr",
     "output_type": "stream",
     "text": [
      "Using TensorFlow backend.\n"
     ]
    },
    {
     "name": "stdout",
     "output_type": "stream",
     "text": [
      "Error in loading augmentation, can't import imgaug.Please make sure it is installed.\n"
     ]
    }
   ],
   "source": [
    "from keras.layers import *\n",
    "from keras.models import Model\n",
    "from keras import layers\n",
    "from keras.layers.merge import concatenate\n",
    "import sys\n",
    "sys.path.insert(1, '../src')\n",
    "sys.path.insert(1, '../image_segmentation_keras')\n",
    "from keras_segmentation.models.config import IMAGE_ORDERING\n",
    "\n",
    "from keras_segmentation.models.model_utils import get_segmentation_model\n",
    "from glob import glob\n",
    "from crfrnn_layer import CrfRnnLayer"
   ]
  },
  {
   "cell_type": "code",
   "execution_count": 13,
   "id": "c1de12c9",
   "metadata": {},
   "outputs": [],
   "source": [
    "input_height,input_width, channels= 256,256,3\n",
    "n_classes=3"
   ]
  },
  {
   "cell_type": "code",
   "execution_count": 14,
   "id": "baa0a2f5",
   "metadata": {},
   "outputs": [
    {
     "name": "stdout",
     "output_type": "stream",
     "text": [
      "(None, 256, 256, 64)\n",
      "(None, 128, 128, 128)\n",
      "(None, 64, 64, 256)\n",
      "(None, 32, 32, 512)\n",
      "(None, 16, 16, 1024)\n",
      "(None, 32, 32, 512)\n",
      "(None, 64, 64, 256)\n",
      "(None, None, None, 128)\n",
      "(None, 128, 128, 128)\n",
      "(None, None, None, 64)\n"
     ]
    }
   ],
   "source": [
    "img_input = Input(shape=(input_height,input_width, channels))\n",
    "\n",
    "conv0 = Conv2D(64, (3, 3), activation='relu', padding='same')(img_input)\n",
    "conv0 = Conv2D(64, (3, 3), activation='relu', padding='same')(conv0)\n",
    "print(conv0.shape)\n",
    "bn0 = BatchNormalization()(conv0)\n",
    "pool0 = MaxPooling2D((2, 2))(bn0)\n",
    "\n",
    "conv1 = Conv2D(128, (3, 3), activation='relu', padding='same')(pool0)\n",
    "conv1 = Conv2D(128, (3, 3), activation='relu', padding='same')(conv1)\n",
    "print(conv1.shape)\n",
    "bn0 = BatchNormalization()(conv1)\n",
    "pool0 = MaxPooling2D((2, 2))(bn0)\n",
    "\n",
    "conv2 = Conv2D(256, (3, 3), activation='relu', padding='same')(pool0)\n",
    "conv2 = Conv2D(256, (3, 3), activation='relu', padding='same')(conv2)\n",
    "print(conv2.shape)\n",
    "bn0 = BatchNormalization()(conv2)\n",
    "pool0 = MaxPooling2D((2, 2))(bn0)\n",
    "\n",
    "conv3 = Conv2D(512, (3, 3), activation='relu', padding='same')(pool0)\n",
    "conv3 = Conv2D(512, (3, 3), activation='relu', padding='same')(conv3)\n",
    "print(conv3.shape)\n",
    "bn0 = BatchNormalization()(conv3)\n",
    "pool0 = MaxPooling2D((2, 2))(bn0)\n",
    "\n",
    "conv4 = Conv2D(1024, (3, 3), activation='relu', padding='same')(pool0)\n",
    "conv4 = Conv2D(1024, (3, 3), activation='relu', padding='same')(conv4)\n",
    "print(conv4.shape)\n",
    "\n",
    "\n",
    "up_= Conv2DTranspose(512,(2,2),strides=2,padding='same')(conv4)\n",
    "up0 = concatenate([up_, conv3], axis=3)\n",
    "conv5 = Conv2D(512, (3, 3), activation='relu', padding='same')(up0)\n",
    "conv5 = Conv2D(512, (3, 3), activation='relu', padding='same')(conv5)\n",
    "print(conv5.shape)\n",
    "\n",
    "bn4 = BatchNormalization()(conv5)\n",
    "\n",
    "up_= Conv2DTranspose(256,(2,2),strides=2,padding='same')(bn4)\n",
    "up0 = concatenate([up_, conv2], axis=3)\n",
    "conv6 = Conv2D(256, (3, 3), activation='relu', padding='same')(up0)\n",
    "conv6 = Conv2D(256, (3, 3), activation='relu', padding='same')(conv6)\n",
    "print(conv6.shape)\n",
    "\n",
    "bn4 = BatchNormalization()(conv6)\n",
    "\n",
    "up_= Conv2DTranspose(128,(2,2),strides=2,padding='same')(bn4)\n",
    "print(up_.shape)\n",
    "up0 = concatenate([up_, conv1], axis=3)\n",
    "conv7 = Conv2D(128, (3, 3), activation='relu', padding='same')(up0)\n",
    "conv7 = Conv2D(128, (3, 3), activation='relu', padding='same')(conv7)\n",
    "print(conv7.shape)\n",
    "bn6 = BatchNormalization()(conv7)\n",
    "\n",
    "up_4= Conv2DTranspose(64,(2,2),strides=2,padding='same')(bn6)\n",
    "print(up_4.shape)\n",
    "up3 = concatenate([up_4, conv0], axis=3)\n",
    "conv8 = Conv2D(64, (3, 3), activation='relu', padding='same')(up3)\n",
    "conv8 = Conv2D(64, (3, 3), activation='relu', padding='same')(conv8)\n",
    "bn7 = BatchNormalization()(conv8)\n",
    "\n",
    "out = Conv2D( n_classes, (1, 1) , padding='same')(bn7)\n",
    "model = get_segmentation_model(img_input, out) # this would build the segmentation model\""
   ]
  },
  {
   "cell_type": "code",
   "execution_count": null,
   "id": "beae3c44",
   "metadata": {},
   "outputs": [],
   "source": []
  },
  {
   "cell_type": "code",
   "execution_count": null,
   "id": "163878f7",
   "metadata": {},
   "outputs": [],
   "source": []
  }
 ],
 "metadata": {
  "kernelspec": {
   "display_name": "Python 3",
   "language": "python",
   "name": "python3"
  },
  "language_info": {
   "codemirror_mode": {
    "name": "ipython",
    "version": 3
   },
   "file_extension": ".py",
   "mimetype": "text/x-python",
   "name": "python",
   "nbconvert_exporter": "python",
   "pygments_lexer": "ipython3",
   "version": "3.7.9"
  }
 },
 "nbformat": 4,
 "nbformat_minor": 5
}
