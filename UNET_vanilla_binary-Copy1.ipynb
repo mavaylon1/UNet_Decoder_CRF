{
 "cells": [
  {
   "cell_type": "code",
   "execution_count": 1,
   "metadata": {},
   "outputs": [
    {
     "name": "stderr",
     "output_type": "stream",
     "text": [
      "Using TensorFlow backend.\n"
     ]
    },
    {
     "name": "stdout",
     "output_type": "stream",
     "text": [
      "WARNING:tensorflow:There are non-GPU devices in `tf.distribute.Strategy`, not using nccl allreduce.\n",
      "INFO:tensorflow:Using MirroredStrategy with devices ('/job:localhost/replica:0/task:0/device:CPU:0',)\n",
      "Number of devices: 1\n",
      "conv4 (None, 32, 32, 1024)\n",
      "conv3 (None, 64, 64, 512)\n",
      "up_ (None, None, None, 512)\n",
      "(None, 64, 64, 1024)\n",
      "(None, 128, 128, 512)\n",
      "(None, 256, 256, 256)\n",
      "(None, 512, 512, 128)\n",
      "(None, 512, 512, 64)\n",
      "out (None, 512, 512, 2)\n"
     ]
    }
   ],
   "source": [
    "from keras.models import Model\n",
    "from keras.layers import Conv2D, MaxPooling2D, Input, ZeroPadding2D, \\\n",
    "    Dropout, Conv2DTranspose, Cropping2D, Add, UpSampling2D, BatchNormalization\n",
    "from keras.layers.merge import concatenate\n",
    "from image_segmentation_keras.keras_segmentation.models.model_utils import get_segmentation_model\n",
    "from glob import glob\n",
    "\n",
    "import tensorflow as tf\n",
    "\n",
    "strategy = tf.distribute.MirroredStrategy()\n",
    "print(\"Number of devices: {}\".format(strategy.num_replicas_in_sync))\n",
    "\n",
    "i=0\n",
    "# Open a strategy scope.\n",
    "if i==0:\n",
    "    input_height = 512\n",
    "    input_width = 512\n",
    "    n_classes = 2\n",
    "    channels = 3\n",
    "\n",
    "    img_input = Input(shape=(input_height,input_width, channels))\n",
    "\n",
    "    conv0 = Conv2D(64, (3, 3), activation='relu', padding='same')(img_input)\n",
    "#     conv0 = Dropout(0.2)(conv0)\n",
    "    conv0 = Conv2D(64, (3, 3), activation='relu', padding='same')(conv0)\n",
    "    bn0 = BatchNormalization()(conv0)\n",
    "    pool0 = MaxPooling2D((2, 2))(bn0)\n",
    "    \n",
    "    conv1 = Conv2D(128, (3, 3), activation='relu', padding='same')(pool0)\n",
    "#     conv1 = Dropout(0.2)(conv1)\n",
    "    conv1 = Conv2D(128, (3, 3), activation='relu', padding='same')(conv1)\n",
    "    bn1 = BatchNormalization()(conv1)\n",
    "    pool1 = MaxPooling2D((2, 2))(bn1)\n",
    "\n",
    "    conv2 = Conv2D(256, (3, 3), activation='relu', padding='same')(pool1)\n",
    "#     conv2 = Dropout(0.2)(conv2)\n",
    "    conv2 = Conv2D(256, (3, 3), activation='relu', padding='same')(conv2)\n",
    "    bn2 = BatchNormalization()(conv2)\n",
    "    pool2 = MaxPooling2D((2, 2))(bn2)\n",
    "\n",
    "    conv3 = Conv2D(512, (3, 3), activation='relu', padding='same')(pool2)\n",
    "#     conv3 = Dropout(0.2)(conv3)\n",
    "    conv3 = Conv2D(512, (3, 3), activation='relu', padding='same')(conv3)\n",
    "    bn3 = BatchNormalization()(conv3)\n",
    "    pool3 = MaxPooling2D((2, 2))(bn3)\n",
    "    \n",
    "    conv4 = Conv2D(1024, (3, 3), activation='relu', padding='same')(pool3)\n",
    "#     conv4 = Dropout(0.2)(conv4)\n",
    "    conv4 = Conv2D(1024, (3, 3), activation='relu', padding='same')(conv4)\n",
    "    print(\"conv4\",conv4.shape)\n",
    "    print('conv3',conv3.shape)\n",
    "\n",
    "    up_= Conv2DTranspose(512,(2,2),strides=2,padding='same')(conv4)\n",
    "    print('up_',up_.shape)\n",
    "    up0 = concatenate([up_, conv3], axis=3)\n",
    "    print(up0.shape)\n",
    "    conv5 = Conv2D(512, (3, 3), activation='relu', padding='same')(up0)\n",
    "#     conv5 = Dropout(0.2)(conv5)\n",
    "    conv5 = Conv2D(512, (3, 3), activation='relu', padding='same')(conv5)\n",
    "    bn4 = BatchNormalization()(conv5)\n",
    "    \n",
    "    up_2= Conv2DTranspose(256,(2,2),strides=2,padding='same')(bn4)\n",
    "    up1 = concatenate([up_2, conv2], axis=-1)\n",
    "    print(up1.shape)\n",
    "    conv6 = Conv2D(256, (3, 3), activation='relu', padding='same')(up1)\n",
    "#     conv6 = Dropout(0.2)(conv6)\n",
    "    conv6 = Conv2D(256, (3, 3), activation='relu', padding='same')(conv6)\n",
    "    bn5 = BatchNormalization()(conv6)\n",
    "    \n",
    "    up_3= Conv2DTranspose(128,(2,2),strides=2,padding='same')(bn5)\n",
    "    up2 = concatenate([up_3, conv1], axis=3)\n",
    "    print(up2.shape)\n",
    "    conv7 = Conv2D(128, (3, 3), activation='relu', padding='same')(up2)\n",
    "#     conv7 = Dropout(0.2)(conv7)\n",
    "    conv7 = Conv2D(128, (3, 3), activation='relu', padding='same')(conv7)\n",
    "    bn6 = BatchNormalization()(conv7)\n",
    "    \n",
    "    up_4= Conv2DTranspose(64,(2,2),strides=2,padding='same')(bn6)\n",
    "    up3 = concatenate([up_4, conv0], axis=3)\n",
    "    print(up3.shape)\n",
    "    conv8 = Conv2D(64, (3, 3), activation='relu', padding='same')(up3)\n",
    "#     conv8 = Dropout(0.2)(conv8)\n",
    "    conv8 = Conv2D(64, (3, 3), activation='relu', padding='same')(conv8)\n",
    "    bn7 = BatchNormalization()(conv8)\n",
    "    print(conv8.shape)\n",
    "    out = Conv2D( n_classes, (1, 1) , padding='same')(bn7)\n",
    "    print('out',out.shape)\n",
    "    model = get_segmentation_model(img_input ,  out ) # this would build the segmentation model"
   ]
  },
  {
   "cell_type": "code",
   "execution_count": 2,
   "metadata": {},
   "outputs": [
    {
     "name": "stdout",
     "output_type": "stream",
     "text": [
      "Verifying training dataset\n"
     ]
    },
    {
     "name": "stderr",
     "output_type": "stream",
     "text": [
      "100%|██████████| 1808/1808 [00:06<00:00, 293.79it/s]\n",
      " 14%|█▎        | 29/214 [00:00<00:00, 285.37it/s]"
     ]
    },
    {
     "name": "stdout",
     "output_type": "stream",
     "text": [
      "Dataset verified! \n",
      "Verifying validation dataset\n"
     ]
    },
    {
     "name": "stderr",
     "output_type": "stream",
     "text": [
      "100%|██████████| 214/214 [00:00<00:00, 320.19it/s]\n"
     ]
    },
    {
     "name": "stdout",
     "output_type": "stream",
     "text": [
      "Dataset verified! \n",
      "correct\n",
      "Epoch 1/20\n"
     ]
    },
    {
     "ename": "KeyboardInterrupt",
     "evalue": "",
     "output_type": "error",
     "traceback": [
      "\u001b[0;31m-----------------------------------------------\u001b[0m",
      "\u001b[0;31mKeyboardInterrupt\u001b[0mTraceback (most recent call last)",
      "\u001b[0;32m<ipython-input-2-71ed7d83f9e9>\u001b[0m in \u001b[0;36m<module>\u001b[0;34m\u001b[0m\n\u001b[1;32m      9\u001b[0m     \u001b[0mval_annotations\u001b[0m\u001b[0;34m=\u001b[0m\u001b[0;34m\"/Users/mavaylon/Research/Davis/Original_Davis/DB_ann_val/\"\u001b[0m\u001b[0;34m,\u001b[0m\u001b[0;34m\u001b[0m\u001b[0;34m\u001b[0m\u001b[0m\n\u001b[1;32m     10\u001b[0m     \u001b[0mval_batch_size\u001b[0m\u001b[0;34m=\u001b[0m\u001b[0;36m1\u001b[0m\u001b[0;34m,\u001b[0m\u001b[0;34m\u001b[0m\u001b[0;34m\u001b[0m\u001b[0m\n\u001b[0;32m---> 11\u001b[0;31m     \u001b[0mval_steps_per_epoch\u001b[0m\u001b[0;34m=\u001b[0m\u001b[0mlen\u001b[0m\u001b[0;34m(\u001b[0m\u001b[0mglob\u001b[0m\u001b[0;34m(\u001b[0m\u001b[0;34m\"/Users/mavaylon/Research/Davis/Original_Davis/proximal_lower_contrast_val_renamed/img/*\"\u001b[0m\u001b[0;34m)\u001b[0m\u001b[0;34m)\u001b[0m\u001b[0;34m\u001b[0m\u001b[0;34m\u001b[0m\u001b[0m\n\u001b[0m\u001b[1;32m     12\u001b[0m )\n",
      "\u001b[0;32m~/Research/LBNL_Segmentation_crf/image_segmentation_keras/keras_segmentation/train.py\u001b[0m in \u001b[0;36mtrain\u001b[0;34m(model, train_images, train_annotations, input_height, input_width, n_classes, verify_dataset, checkpoints_path, epochs, batch_size, validate, val_images, val_annotations, val_batch_size, auto_resume_checkpoint, load_weights, steps_per_epoch, val_steps_per_epoch, gen_use_multiprocessing, ignore_zero_class, optimizer_name, do_augment, augmentation_name)\u001b[0m\n\u001b[1;32m    166\u001b[0m                             \u001b[0mvalidation_steps\u001b[0m\u001b[0;34m=\u001b[0m\u001b[0mval_steps_per_epoch\u001b[0m\u001b[0;34m,\u001b[0m\u001b[0;34m\u001b[0m\u001b[0;34m\u001b[0m\u001b[0m\n\u001b[1;32m    167\u001b[0m                             \u001b[0mepochs\u001b[0m\u001b[0;34m=\u001b[0m\u001b[0mepochs\u001b[0m\u001b[0;34m,\u001b[0m \u001b[0mcallbacks\u001b[0m\u001b[0;34m=\u001b[0m\u001b[0mcallbacks\u001b[0m\u001b[0;34m,\u001b[0m\u001b[0;34m\u001b[0m\u001b[0;34m\u001b[0m\u001b[0m\n\u001b[0;32m--> 168\u001b[0;31m                             use_multiprocessing=gen_use_multiprocessing)\n\u001b[0m",
      "\u001b[0;32m~/opt/anaconda3/lib/python3.7/site-packages/keras/legacy/interfaces.py\u001b[0m in \u001b[0;36mwrapper\u001b[0;34m(*args, **kwargs)\u001b[0m\n\u001b[1;32m     89\u001b[0m                 warnings.warn('Update your `' + object_name + '` call to the ' +\n\u001b[1;32m     90\u001b[0m                               'Keras 2 API: ' + signature, stacklevel=2)\n\u001b[0;32m---> 91\u001b[0;31m             \u001b[0;32mreturn\u001b[0m \u001b[0mfunc\u001b[0m\u001b[0;34m(\u001b[0m\u001b[0;34m*\u001b[0m\u001b[0margs\u001b[0m\u001b[0;34m,\u001b[0m \u001b[0;34m**\u001b[0m\u001b[0mkwargs\u001b[0m\u001b[0;34m)\u001b[0m\u001b[0;34m\u001b[0m\u001b[0;34m\u001b[0m\u001b[0m\n\u001b[0m\u001b[1;32m     92\u001b[0m         \u001b[0mwrapper\u001b[0m\u001b[0;34m.\u001b[0m\u001b[0m_original_function\u001b[0m \u001b[0;34m=\u001b[0m \u001b[0mfunc\u001b[0m\u001b[0;34m\u001b[0m\u001b[0;34m\u001b[0m\u001b[0m\n\u001b[1;32m     93\u001b[0m         \u001b[0;32mreturn\u001b[0m \u001b[0mwrapper\u001b[0m\u001b[0;34m\u001b[0m\u001b[0;34m\u001b[0m\u001b[0m\n",
      "\u001b[0;32m~/opt/anaconda3/lib/python3.7/site-packages/keras/engine/training.py\u001b[0m in \u001b[0;36mfit_generator\u001b[0;34m(self, generator, steps_per_epoch, epochs, verbose, callbacks, validation_data, validation_steps, validation_freq, class_weight, max_queue_size, workers, use_multiprocessing, shuffle, initial_epoch)\u001b[0m\n\u001b[1;32m   1730\u001b[0m             \u001b[0muse_multiprocessing\u001b[0m\u001b[0;34m=\u001b[0m\u001b[0muse_multiprocessing\u001b[0m\u001b[0;34m,\u001b[0m\u001b[0;34m\u001b[0m\u001b[0;34m\u001b[0m\u001b[0m\n\u001b[1;32m   1731\u001b[0m             \u001b[0mshuffle\u001b[0m\u001b[0;34m=\u001b[0m\u001b[0mshuffle\u001b[0m\u001b[0;34m,\u001b[0m\u001b[0;34m\u001b[0m\u001b[0;34m\u001b[0m\u001b[0m\n\u001b[0;32m-> 1732\u001b[0;31m             initial_epoch=initial_epoch)\n\u001b[0m\u001b[1;32m   1733\u001b[0m \u001b[0;34m\u001b[0m\u001b[0m\n\u001b[1;32m   1734\u001b[0m     \u001b[0;34m@\u001b[0m\u001b[0minterfaces\u001b[0m\u001b[0;34m.\u001b[0m\u001b[0mlegacy_generator_methods_support\u001b[0m\u001b[0;34m\u001b[0m\u001b[0;34m\u001b[0m\u001b[0m\n",
      "\u001b[0;32m~/opt/anaconda3/lib/python3.7/site-packages/keras/engine/training_generator.py\u001b[0m in \u001b[0;36mfit_generator\u001b[0;34m(model, generator, steps_per_epoch, epochs, verbose, callbacks, validation_data, validation_steps, validation_freq, class_weight, max_queue_size, workers, use_multiprocessing, shuffle, initial_epoch)\u001b[0m\n\u001b[1;32m    218\u001b[0m                                             \u001b[0msample_weight\u001b[0m\u001b[0;34m=\u001b[0m\u001b[0msample_weight\u001b[0m\u001b[0;34m,\u001b[0m\u001b[0;34m\u001b[0m\u001b[0;34m\u001b[0m\u001b[0m\n\u001b[1;32m    219\u001b[0m                                             \u001b[0mclass_weight\u001b[0m\u001b[0;34m=\u001b[0m\u001b[0mclass_weight\u001b[0m\u001b[0;34m,\u001b[0m\u001b[0;34m\u001b[0m\u001b[0;34m\u001b[0m\u001b[0m\n\u001b[0;32m--> 220\u001b[0;31m                                             reset_metrics=False)\n\u001b[0m\u001b[1;32m    221\u001b[0m \u001b[0;34m\u001b[0m\u001b[0m\n\u001b[1;32m    222\u001b[0m                 \u001b[0mouts\u001b[0m \u001b[0;34m=\u001b[0m \u001b[0mto_list\u001b[0m\u001b[0;34m(\u001b[0m\u001b[0mouts\u001b[0m\u001b[0;34m)\u001b[0m\u001b[0;34m\u001b[0m\u001b[0;34m\u001b[0m\u001b[0m\n",
      "\u001b[0;32m~/opt/anaconda3/lib/python3.7/site-packages/keras/engine/training.py\u001b[0m in \u001b[0;36mtrain_on_batch\u001b[0;34m(self, x, y, sample_weight, class_weight, reset_metrics)\u001b[0m\n\u001b[1;32m   1512\u001b[0m             \u001b[0mins\u001b[0m \u001b[0;34m=\u001b[0m \u001b[0mx\u001b[0m \u001b[0;34m+\u001b[0m \u001b[0my\u001b[0m \u001b[0;34m+\u001b[0m \u001b[0msample_weights\u001b[0m\u001b[0;34m\u001b[0m\u001b[0;34m\u001b[0m\u001b[0m\n\u001b[1;32m   1513\u001b[0m         \u001b[0mself\u001b[0m\u001b[0;34m.\u001b[0m\u001b[0m_make_train_function\u001b[0m\u001b[0;34m(\u001b[0m\u001b[0;34m)\u001b[0m\u001b[0;34m\u001b[0m\u001b[0;34m\u001b[0m\u001b[0m\n\u001b[0;32m-> 1514\u001b[0;31m         \u001b[0moutputs\u001b[0m \u001b[0;34m=\u001b[0m \u001b[0mself\u001b[0m\u001b[0;34m.\u001b[0m\u001b[0mtrain_function\u001b[0m\u001b[0;34m(\u001b[0m\u001b[0mins\u001b[0m\u001b[0;34m)\u001b[0m\u001b[0;34m\u001b[0m\u001b[0;34m\u001b[0m\u001b[0m\n\u001b[0m\u001b[1;32m   1515\u001b[0m \u001b[0;34m\u001b[0m\u001b[0m\n\u001b[1;32m   1516\u001b[0m         \u001b[0;32mif\u001b[0m \u001b[0mreset_metrics\u001b[0m\u001b[0;34m:\u001b[0m\u001b[0;34m\u001b[0m\u001b[0;34m\u001b[0m\u001b[0m\n",
      "\u001b[0;32m~/opt/anaconda3/lib/python3.7/site-packages/tensorflow/python/keras/backend.py\u001b[0m in \u001b[0;36m__call__\u001b[0;34m(self, inputs)\u001b[0m\n\u001b[1;32m   3790\u001b[0m         \u001b[0mvalue\u001b[0m \u001b[0;34m=\u001b[0m \u001b[0mmath_ops\u001b[0m\u001b[0;34m.\u001b[0m\u001b[0mcast\u001b[0m\u001b[0;34m(\u001b[0m\u001b[0mvalue\u001b[0m\u001b[0;34m,\u001b[0m \u001b[0mtensor\u001b[0m\u001b[0;34m.\u001b[0m\u001b[0mdtype\u001b[0m\u001b[0;34m)\u001b[0m\u001b[0;34m\u001b[0m\u001b[0;34m\u001b[0m\u001b[0m\n\u001b[1;32m   3791\u001b[0m       \u001b[0mconverted_inputs\u001b[0m\u001b[0;34m.\u001b[0m\u001b[0mappend\u001b[0m\u001b[0;34m(\u001b[0m\u001b[0mvalue\u001b[0m\u001b[0;34m)\u001b[0m\u001b[0;34m\u001b[0m\u001b[0;34m\u001b[0m\u001b[0m\n\u001b[0;32m-> 3792\u001b[0;31m     \u001b[0moutputs\u001b[0m \u001b[0;34m=\u001b[0m \u001b[0mself\u001b[0m\u001b[0;34m.\u001b[0m\u001b[0m_graph_fn\u001b[0m\u001b[0;34m(\u001b[0m\u001b[0;34m*\u001b[0m\u001b[0mconverted_inputs\u001b[0m\u001b[0;34m)\u001b[0m\u001b[0;34m\u001b[0m\u001b[0;34m\u001b[0m\u001b[0m\n\u001b[0m\u001b[1;32m   3793\u001b[0m \u001b[0;34m\u001b[0m\u001b[0m\n\u001b[1;32m   3794\u001b[0m     \u001b[0;31m# EagerTensor.numpy() will often make a copy to ensure memory safety.\u001b[0m\u001b[0;34m\u001b[0m\u001b[0;34m\u001b[0m\u001b[0;34m\u001b[0m\u001b[0m\n",
      "\u001b[0;32m~/opt/anaconda3/lib/python3.7/site-packages/tensorflow/python/eager/function.py\u001b[0m in \u001b[0;36m__call__\u001b[0;34m(self, *args, **kwargs)\u001b[0m\n\u001b[1;32m   1603\u001b[0m       \u001b[0mTypeError\u001b[0m\u001b[0;34m:\u001b[0m \u001b[0mFor\u001b[0m \u001b[0minvalid\u001b[0m \u001b[0mpositional\u001b[0m\u001b[0;34m/\u001b[0m\u001b[0mkeyword\u001b[0m \u001b[0margument\u001b[0m \u001b[0mcombinations\u001b[0m\u001b[0;34m.\u001b[0m\u001b[0;34m\u001b[0m\u001b[0;34m\u001b[0m\u001b[0m\n\u001b[1;32m   1604\u001b[0m     \"\"\"\n\u001b[0;32m-> 1605\u001b[0;31m     \u001b[0;32mreturn\u001b[0m \u001b[0mself\u001b[0m\u001b[0;34m.\u001b[0m\u001b[0m_call_impl\u001b[0m\u001b[0;34m(\u001b[0m\u001b[0margs\u001b[0m\u001b[0;34m,\u001b[0m \u001b[0mkwargs\u001b[0m\u001b[0;34m)\u001b[0m\u001b[0;34m\u001b[0m\u001b[0;34m\u001b[0m\u001b[0m\n\u001b[0m\u001b[1;32m   1606\u001b[0m \u001b[0;34m\u001b[0m\u001b[0m\n\u001b[1;32m   1607\u001b[0m   \u001b[0;32mdef\u001b[0m \u001b[0m_call_impl\u001b[0m\u001b[0;34m(\u001b[0m\u001b[0mself\u001b[0m\u001b[0;34m,\u001b[0m \u001b[0margs\u001b[0m\u001b[0;34m,\u001b[0m \u001b[0mkwargs\u001b[0m\u001b[0;34m,\u001b[0m \u001b[0mcancellation_manager\u001b[0m\u001b[0;34m=\u001b[0m\u001b[0;32mNone\u001b[0m\u001b[0;34m)\u001b[0m\u001b[0;34m:\u001b[0m\u001b[0;34m\u001b[0m\u001b[0;34m\u001b[0m\u001b[0m\n",
      "\u001b[0;32m~/opt/anaconda3/lib/python3.7/site-packages/tensorflow/python/eager/function.py\u001b[0m in \u001b[0;36m_call_impl\u001b[0;34m(self, args, kwargs, cancellation_manager)\u001b[0m\n\u001b[1;32m   1643\u001b[0m       raise TypeError(\"Keyword arguments {} unknown. Expected {}.\".format(\n\u001b[1;32m   1644\u001b[0m           list(kwargs.keys()), list(self._arg_keywords)))\n\u001b[0;32m-> 1645\u001b[0;31m     \u001b[0;32mreturn\u001b[0m \u001b[0mself\u001b[0m\u001b[0;34m.\u001b[0m\u001b[0m_call_flat\u001b[0m\u001b[0;34m(\u001b[0m\u001b[0margs\u001b[0m\u001b[0;34m,\u001b[0m \u001b[0mself\u001b[0m\u001b[0;34m.\u001b[0m\u001b[0mcaptured_inputs\u001b[0m\u001b[0;34m,\u001b[0m \u001b[0mcancellation_manager\u001b[0m\u001b[0;34m)\u001b[0m\u001b[0;34m\u001b[0m\u001b[0;34m\u001b[0m\u001b[0m\n\u001b[0m\u001b[1;32m   1646\u001b[0m \u001b[0;34m\u001b[0m\u001b[0m\n\u001b[1;32m   1647\u001b[0m   \u001b[0;32mdef\u001b[0m \u001b[0m_filtered_call\u001b[0m\u001b[0;34m(\u001b[0m\u001b[0mself\u001b[0m\u001b[0;34m,\u001b[0m \u001b[0margs\u001b[0m\u001b[0;34m,\u001b[0m \u001b[0mkwargs\u001b[0m\u001b[0;34m)\u001b[0m\u001b[0;34m:\u001b[0m\u001b[0;34m\u001b[0m\u001b[0;34m\u001b[0m\u001b[0m\n",
      "\u001b[0;32m~/opt/anaconda3/lib/python3.7/site-packages/tensorflow/python/eager/function.py\u001b[0m in \u001b[0;36m_call_flat\u001b[0;34m(self, args, captured_inputs, cancellation_manager)\u001b[0m\n\u001b[1;32m   1744\u001b[0m       \u001b[0;31m# No tape is watching; skip to running the function.\u001b[0m\u001b[0;34m\u001b[0m\u001b[0;34m\u001b[0m\u001b[0;34m\u001b[0m\u001b[0m\n\u001b[1;32m   1745\u001b[0m       return self._build_call_outputs(self._inference_function.call(\n\u001b[0;32m-> 1746\u001b[0;31m           ctx, args, cancellation_manager=cancellation_manager))\n\u001b[0m\u001b[1;32m   1747\u001b[0m     forward_backward = self._select_forward_and_backward_functions(\n\u001b[1;32m   1748\u001b[0m         \u001b[0margs\u001b[0m\u001b[0;34m,\u001b[0m\u001b[0;34m\u001b[0m\u001b[0;34m\u001b[0m\u001b[0m\n",
      "\u001b[0;32m~/opt/anaconda3/lib/python3.7/site-packages/tensorflow/python/eager/function.py\u001b[0m in \u001b[0;36mcall\u001b[0;34m(self, ctx, args, cancellation_manager)\u001b[0m\n\u001b[1;32m    596\u001b[0m               \u001b[0minputs\u001b[0m\u001b[0;34m=\u001b[0m\u001b[0margs\u001b[0m\u001b[0;34m,\u001b[0m\u001b[0;34m\u001b[0m\u001b[0;34m\u001b[0m\u001b[0m\n\u001b[1;32m    597\u001b[0m               \u001b[0mattrs\u001b[0m\u001b[0;34m=\u001b[0m\u001b[0mattrs\u001b[0m\u001b[0;34m,\u001b[0m\u001b[0;34m\u001b[0m\u001b[0;34m\u001b[0m\u001b[0m\n\u001b[0;32m--> 598\u001b[0;31m               ctx=ctx)\n\u001b[0m\u001b[1;32m    599\u001b[0m         \u001b[0;32melse\u001b[0m\u001b[0;34m:\u001b[0m\u001b[0;34m\u001b[0m\u001b[0;34m\u001b[0m\u001b[0m\n\u001b[1;32m    600\u001b[0m           outputs = execute.execute_with_cancellation(\n",
      "\u001b[0;32m~/opt/anaconda3/lib/python3.7/site-packages/tensorflow/python/eager/execute.py\u001b[0m in \u001b[0;36mquick_execute\u001b[0;34m(op_name, num_outputs, inputs, attrs, ctx, name)\u001b[0m\n\u001b[1;32m     58\u001b[0m     \u001b[0mctx\u001b[0m\u001b[0;34m.\u001b[0m\u001b[0mensure_initialized\u001b[0m\u001b[0;34m(\u001b[0m\u001b[0;34m)\u001b[0m\u001b[0;34m\u001b[0m\u001b[0;34m\u001b[0m\u001b[0m\n\u001b[1;32m     59\u001b[0m     tensors = pywrap_tfe.TFE_Py_Execute(ctx._handle, device_name, op_name,\n\u001b[0;32m---> 60\u001b[0;31m                                         inputs, attrs, num_outputs)\n\u001b[0m\u001b[1;32m     61\u001b[0m   \u001b[0;32mexcept\u001b[0m \u001b[0mcore\u001b[0m\u001b[0;34m.\u001b[0m\u001b[0m_NotOkStatusException\u001b[0m \u001b[0;32mas\u001b[0m \u001b[0me\u001b[0m\u001b[0;34m:\u001b[0m\u001b[0;34m\u001b[0m\u001b[0;34m\u001b[0m\u001b[0m\n\u001b[1;32m     62\u001b[0m     \u001b[0;32mif\u001b[0m \u001b[0mname\u001b[0m \u001b[0;32mis\u001b[0m \u001b[0;32mnot\u001b[0m \u001b[0;32mNone\u001b[0m\u001b[0;34m:\u001b[0m\u001b[0;34m\u001b[0m\u001b[0;34m\u001b[0m\u001b[0m\n",
      "\u001b[0;31mKeyboardInterrupt\u001b[0m: "
     ]
    }
   ],
   "source": [
    "model.train(\n",
    "    train_images = \"/Users/mavaylon/Research/Davis/Original_Davis/proximal_lower_contrast_train_renamed/imgs/\",\n",
    "    train_annotations = \"/Users/mavaylon/Research/Davis/Original_Davis/DB_ann/\",\n",
    "    epochs=20,\n",
    "    steps_per_epoch=len(glob(\"/Users/mavaylon/Research/Davis/Original_Davis/proximal_lower_contrast_train_renamed/imgs/*\")),\n",
    "    batch_size=1,\n",
    "    validate=True,\n",
    "    val_images=\"/Users/mavaylon/Research/Davis/Original_Davis/proximal_lower_contrast_val_renamed/img/\",\n",
    "    val_annotations=\"/Users/mavaylon/Research/Davis/Original_Davis/DB_ann_val/\",\n",
    "    val_batch_size=1,\n",
    "    val_steps_per_epoch=len(glob(\"/Users/mavaylon/Research/Davis/Original_Davis/proximal_lower_contrast_val_renamed/img/*\"))\n",
    ")\n"
   ]
  },
  {
   "cell_type": "code",
   "execution_count": 2,
   "metadata": {},
   "outputs": [],
   "source": [
    "model.load_weights('/Users/mavaylon/Research/davis_weights/unet_vanilla_davis.h5')"
   ]
  },
  {
   "cell_type": "code",
   "execution_count": 23,
   "metadata": {},
   "outputs": [
    {
     "name": "stdout",
     "output_type": "stream",
     "text": [
      "/Users/mavaylon/Research/Results/Davis_Results/UNET/Vanilla/Lipomaalt_Ucirvine_Pt022_mrimg_n4corr_l4_it300_mrimg_i512_n4corr_l4_it300_slice_6.png\n",
      "/Users/mavaylon/Research/Results/Davis_Results/UNET/Vanilla/Lipomaalt_Ucirvine_Pt022_mrimg_n4corr_l4_it300_mrimg_i512_n4corr_l4_it300_slice_26.png\n",
      "/Users/mavaylon/Research/Results/Davis_Results/UNET/Vanilla/Lipomaalt_Ucsf_Pt044_mrimg_n4corr_l4_it300_mrimg_i512_n4corr_l4_it300_slice_6.png\n",
      "/Users/mavaylon/Research/Results/Davis_Results/UNET/Vanilla/Lipomaalt_Mcgill_Pt044_mrimg_n4corr_l4_it300_mrimg_i512_n4corr_l4_it300_slice_29.png\n",
      "/Users/mavaylon/Research/Results/Davis_Results/UNET/Vanilla/Lipomaalt_Mcgill_Pt053_mrimg_n4corr_l4_it300_mrimg_i512_n4corr_l4_it300_slice_15.png\n",
      "/Users/mavaylon/Research/Results/Davis_Results/UNET/Vanilla/Lipomaalt_Mcgill_Pt053_mrimg_n4corr_l4_it300_mrimg_i512_n4corr_l4_it300_slice_29.png\n",
      "/Users/mavaylon/Research/Results/Davis_Results/UNET/Vanilla/Lipomaalt_Mcgill_Pt044_mrimg_n4corr_l4_it300_mrimg_i512_n4corr_l4_it300_slice_15.png\n",
      "/Users/mavaylon/Research/Results/Davis_Results/UNET/Vanilla/Lipomaalt_Mcgill_Pt074_mrimg_n4corr_l4_it300_mrimg_i512_n4corr_l4_it300_slice_18.png\n",
      "/Users/mavaylon/Research/Results/Davis_Results/UNET/Vanilla/Lipomaalt_Pt008_mrimg_n4corr_l4_it300_mrimg_i512_n4corr_l4_it300_slice_12.png\n",
      "/Users/mavaylon/Research/Results/Davis_Results/UNET/Vanilla/Lipomaalt_Pt008_mrimg_n4corr_l4_it300_mrimg_i512_n4corr_l4_it300_slice_13.png\n",
      "/Users/mavaylon/Research/Results/Davis_Results/UNET/Vanilla/Lipomaalt_Mcgill_Pt044_mrimg_n4corr_l4_it300_mrimg_i512_n4corr_l4_it300_slice_14.png\n",
      "/Users/mavaylon/Research/Results/Davis_Results/UNET/Vanilla/Lipomaalt_Mcgill_Pt053_mrimg_n4corr_l4_it300_mrimg_i512_n4corr_l4_it300_slice_28.png\n",
      "/Users/mavaylon/Research/Results/Davis_Results/UNET/Vanilla/Lipomaalt_Mcgill_Pt053_mrimg_n4corr_l4_it300_mrimg_i512_n4corr_l4_it300_slice_14.png\n",
      "/Users/mavaylon/Research/Results/Davis_Results/UNET/Vanilla/Lipomaalt_Mcgill_Pt044_mrimg_n4corr_l4_it300_mrimg_i512_n4corr_l4_it300_slice_28.png\n",
      "/Users/mavaylon/Research/Results/Davis_Results/UNET/Vanilla/Lipomaalt_Ucsf_Pt044_mrimg_n4corr_l4_it300_mrimg_i512_n4corr_l4_it300_slice_7.png\n",
      "/Users/mavaylon/Research/Results/Davis_Results/UNET/Vanilla/Lipomaalt_Ucirvine_Pt022_mrimg_n4corr_l4_it300_mrimg_i512_n4corr_l4_it300_slice_27.png\n",
      "/Users/mavaylon/Research/Results/Davis_Results/UNET/Vanilla/Lipomaalt_Ucirvine_Pt022_mrimg_n4corr_l4_it300_mrimg_i512_n4corr_l4_it300_slice_7.png\n",
      "/Users/mavaylon/Research/Results/Davis_Results/UNET/Vanilla/Lipomaalt_Ucirvine_Pt022_mrimg_n4corr_l4_it300_mrimg_i512_n4corr_l4_it300_slice_5.png\n",
      "/Users/mavaylon/Research/Results/Davis_Results/UNET/Vanilla/Lipomaalt_Ucirvine_Pt022_mrimg_n4corr_l4_it300_mrimg_i512_n4corr_l4_it300_slice_25.png\n",
      "/Users/mavaylon/Research/Results/Davis_Results/UNET/Vanilla/Lipomaalt_Ucirvine_Pt022_mrimg_n4corr_l4_it300_mrimg_i512_n4corr_l4_it300_slice_19.png\n",
      "/Users/mavaylon/Research/Results/Davis_Results/UNET/Vanilla/Lipomaalt_Ucsf_Pt044_mrimg_n4corr_l4_it300_mrimg_i512_n4corr_l4_it300_slice_5.png\n",
      "/Users/mavaylon/Research/Results/Davis_Results/UNET/Vanilla/Lipomaalt_Mcgill_Pt074_mrimg_n4corr_l4_it300_mrimg_i512_n4corr_l4_it300_slice_8.png\n",
      "/Users/mavaylon/Research/Results/Davis_Results/UNET/Vanilla/Lipomaalt_Mcgill_Pt053_mrimg_n4corr_l4_it300_mrimg_i512_n4corr_l4_it300_slice_16.png\n",
      "/Users/mavaylon/Research/Results/Davis_Results/UNET/Vanilla/Lipomaalt_Mcgill_Pt044_mrimg_n4corr_l4_it300_mrimg_i512_n4corr_l4_it300_slice_16.png\n",
      "/Users/mavaylon/Research/Results/Davis_Results/UNET/Vanilla/Lipomaalt_Pt008_mrimg_n4corr_l4_it300_mrimg_i512_n4corr_l4_it300_slice_11.png\n",
      "/Users/mavaylon/Research/Results/Davis_Results/UNET/Vanilla/Lipomaalt_Pt008_mrimg_n4corr_l4_it300_mrimg_i512_n4corr_l4_it300_slice_10.png\n",
      "/Users/mavaylon/Research/Results/Davis_Results/UNET/Vanilla/Lipomaalt_Mcgill_Pt044_mrimg_n4corr_l4_it300_mrimg_i512_n4corr_l4_it300_slice_17.png\n",
      "/Users/mavaylon/Research/Results/Davis_Results/UNET/Vanilla/Lipomaalt_Mcgill_Pt053_mrimg_n4corr_l4_it300_mrimg_i512_n4corr_l4_it300_slice_17.png\n",
      "/Users/mavaylon/Research/Results/Davis_Results/UNET/Vanilla/Lipomaalt_Mcgill_Pt074_mrimg_n4corr_l4_it300_mrimg_i512_n4corr_l4_it300_slice_9.png\n",
      "/Users/mavaylon/Research/Results/Davis_Results/UNET/Vanilla/Lipomaalt_Ucsf_Pt044_mrimg_n4corr_l4_it300_mrimg_i512_n4corr_l4_it300_slice_4.png\n",
      "/Users/mavaylon/Research/Results/Davis_Results/UNET/Vanilla/Lipomaalt_Ucirvine_Pt022_mrimg_n4corr_l4_it300_mrimg_i512_n4corr_l4_it300_slice_18.png\n",
      "/Users/mavaylon/Research/Results/Davis_Results/UNET/Vanilla/Lipomaalt_Ucirvine_Pt022_mrimg_n4corr_l4_it300_mrimg_i512_n4corr_l4_it300_slice_24.png\n",
      "/Users/mavaylon/Research/Results/Davis_Results/UNET/Vanilla/Lipomaalt_Ucirvine_Pt022_mrimg_n4corr_l4_it300_mrimg_i512_n4corr_l4_it300_slice_4.png\n",
      "/Users/mavaylon/Research/Results/Davis_Results/UNET/Vanilla/Lipomaalt_Ucirvine_Pt022_mrimg_n4corr_l4_it300_mrimg_i512_n4corr_l4_it300_slice_0.png\n",
      "/Users/mavaylon/Research/Results/Davis_Results/UNET/Vanilla/Lipomaalt_Ucirvine_Pt022_mrimg_n4corr_l4_it300_mrimg_i512_n4corr_l4_it300_slice_20.png\n",
      "/Users/mavaylon/Research/Results/Davis_Results/UNET/Vanilla/Lipomaalt_Pt008_mrimg_n4corr_l4_it300_mrimg_i512_n4corr_l4_it300_slice_8.png\n",
      "/Users/mavaylon/Research/Results/Davis_Results/UNET/Vanilla/Lipomaalt_Ucsf_Pt044_mrimg_n4corr_l4_it300_mrimg_i512_n4corr_l4_it300_slice_0.png\n",
      "/Users/mavaylon/Research/Results/Davis_Results/UNET/Vanilla/Lipomaalt_Mcgill_Pt044_mrimg_n4corr_l4_it300_mrimg_i512_n4corr_l4_it300_slice_13.png\n",
      "/Users/mavaylon/Research/Results/Davis_Results/UNET/Vanilla/Lipomaalt_Mcgill_Pt053_mrimg_n4corr_l4_it300_mrimg_i512_n4corr_l4_it300_slice_13.png\n",
      "/Users/mavaylon/Research/Results/Davis_Results/UNET/Vanilla/Lipomaalt_Pt008_mrimg_n4corr_l4_it300_mrimg_i512_n4corr_l4_it300_slice_14.png\n",
      "/Users/mavaylon/Research/Results/Davis_Results/UNET/Vanilla/Lipomaalt_Pt008_mrimg_n4corr_l4_it300_mrimg_i512_n4corr_l4_it300_slice_28.png\n",
      "/Users/mavaylon/Research/Results/Davis_Results/UNET/Vanilla/Lipomaalt_Pt008_mrimg_n4corr_l4_it300_mrimg_i512_n4corr_l4_it300_slice_29.png\n",
      "/Users/mavaylon/Research/Results/Davis_Results/UNET/Vanilla/Lipomaalt_Pt008_mrimg_n4corr_l4_it300_mrimg_i512_n4corr_l4_it300_slice_15.png\n",
      "/Users/mavaylon/Research/Results/Davis_Results/UNET/Vanilla/Lipomaalt_Mcgill_Pt053_mrimg_n4corr_l4_it300_mrimg_i512_n4corr_l4_it300_slice_12.png\n",
      "/Users/mavaylon/Research/Results/Davis_Results/UNET/Vanilla/Lipomaalt_Mcgill_Pt044_mrimg_n4corr_l4_it300_mrimg_i512_n4corr_l4_it300_slice_12.png\n",
      "/Users/mavaylon/Research/Results/Davis_Results/UNET/Vanilla/Lipomaalt_Ucsf_Pt044_mrimg_n4corr_l4_it300_mrimg_i512_n4corr_l4_it300_slice_1.png\n",
      "/Users/mavaylon/Research/Results/Davis_Results/UNET/Vanilla/Lipomaalt_Pt008_mrimg_n4corr_l4_it300_mrimg_i512_n4corr_l4_it300_slice_9.png\n",
      "/Users/mavaylon/Research/Results/Davis_Results/UNET/Vanilla/Lipomaalt_Ucirvine_Pt022_mrimg_n4corr_l4_it300_mrimg_i512_n4corr_l4_it300_slice_21.png\n",
      "/Users/mavaylon/Research/Results/Davis_Results/UNET/Vanilla/Lipomaalt_Ucirvine_Pt022_mrimg_n4corr_l4_it300_mrimg_i512_n4corr_l4_it300_slice_1.png\n",
      "/Users/mavaylon/Research/Results/Davis_Results/UNET/Vanilla/Lipomaalt_Ucirvine_Pt022_mrimg_n4corr_l4_it300_mrimg_i512_n4corr_l4_it300_slice_3.png\n",
      "/Users/mavaylon/Research/Results/Davis_Results/UNET/Vanilla/Lipomaalt_Ucirvine_Pt022_mrimg_n4corr_l4_it300_mrimg_i512_n4corr_l4_it300_slice_23.png\n",
      "/Users/mavaylon/Research/Results/Davis_Results/UNET/Vanilla/Lipomaalt_Ucsf_Pt044_mrimg_n4corr_l4_it300_mrimg_i512_n4corr_l4_it300_slice_3.png\n",
      "/Users/mavaylon/Research/Results/Davis_Results/UNET/Vanilla/Lipomaalt_Mcgill_Pt044_mrimg_n4corr_l4_it300_mrimg_i512_n4corr_l4_it300_slice_10.png\n",
      "/Users/mavaylon/Research/Results/Davis_Results/UNET/Vanilla/Lipomaalt_Mcgill_Pt053_mrimg_n4corr_l4_it300_mrimg_i512_n4corr_l4_it300_slice_10.png\n",
      "/Users/mavaylon/Research/Results/Davis_Results/UNET/Vanilla/Lipomaalt_Pt008_mrimg_n4corr_l4_it300_mrimg_i512_n4corr_l4_it300_slice_17.png\n",
      "/Users/mavaylon/Research/Results/Davis_Results/UNET/Vanilla/Lipomaalt_Pt008_mrimg_n4corr_l4_it300_mrimg_i512_n4corr_l4_it300_slice_16.png\n",
      "/Users/mavaylon/Research/Results/Davis_Results/UNET/Vanilla/Lipomaalt_Mcgill_Pt053_mrimg_n4corr_l4_it300_mrimg_i512_n4corr_l4_it300_slice_11.png\n",
      "/Users/mavaylon/Research/Results/Davis_Results/UNET/Vanilla/Lipomaalt_Mcgill_Pt044_mrimg_n4corr_l4_it300_mrimg_i512_n4corr_l4_it300_slice_11.png\n"
     ]
    },
    {
     "name": "stdout",
     "output_type": "stream",
     "text": [
      "/Users/mavaylon/Research/Results/Davis_Results/UNET/Vanilla/Lipomaalt_Ucsf_Pt044_mrimg_n4corr_l4_it300_mrimg_i512_n4corr_l4_it300_slice_2.png\n",
      "/Users/mavaylon/Research/Results/Davis_Results/UNET/Vanilla/Lipomaalt_Ucirvine_Pt022_mrimg_n4corr_l4_it300_mrimg_i512_n4corr_l4_it300_slice_22.png\n",
      "/Users/mavaylon/Research/Results/Davis_Results/UNET/Vanilla/Lipomaalt_Ucirvine_Pt022_mrimg_n4corr_l4_it300_mrimg_i512_n4corr_l4_it300_slice_2.png\n",
      "/Users/mavaylon/Research/Results/Davis_Results/UNET/Vanilla/Lipomaalt_Pt026_mrimg_n4corr_l4_it300_mrimg_i512_n4corr_l4_it300_slice_4.png\n",
      "/Users/mavaylon/Research/Results/Davis_Results/UNET/Vanilla/Lipomaalt_Mcgill_Pt044_mrimg_n4corr_l4_it300_mrimg_i512_n4corr_l4_it300_slice_5.png\n",
      "/Users/mavaylon/Research/Results/Davis_Results/UNET/Vanilla/Lipomaalt_Mcgill_Pt044_mrimg_n4corr_l4_it300_mrimg_i512_n4corr_l4_it300_slice_4.png\n",
      "/Users/mavaylon/Research/Results/Davis_Results/UNET/Vanilla/Lipomaalt_Pt026_mrimg_n4corr_l4_it300_mrimg_i512_n4corr_l4_it300_slice_5.png\n",
      "/Users/mavaylon/Research/Results/Davis_Results/UNET/Vanilla/Lipomaalt_Pt026_mrimg_n4corr_l4_it300_mrimg_i512_n4corr_l4_it300_slice_7.png\n",
      "/Users/mavaylon/Research/Results/Davis_Results/UNET/Vanilla/Lipomaalt_Mcgill_Pt044_mrimg_n4corr_l4_it300_mrimg_i512_n4corr_l4_it300_slice_6.png\n",
      "/Users/mavaylon/Research/Results/Davis_Results/UNET/Vanilla/Lipomaalt_Mcgill_Pt044_mrimg_n4corr_l4_it300_mrimg_i512_n4corr_l4_it300_slice_7.png\n",
      "/Users/mavaylon/Research/Results/Davis_Results/UNET/Vanilla/Lipomaalt_Pt026_mrimg_n4corr_l4_it300_mrimg_i512_n4corr_l4_it300_slice_6.png\n",
      "/Users/mavaylon/Research/Results/Davis_Results/UNET/Vanilla/Lipomaalt_Pt026_mrimg_n4corr_l4_it300_mrimg_i512_n4corr_l4_it300_slice_2.png\n",
      "/Users/mavaylon/Research/Results/Davis_Results/UNET/Vanilla/Lipomaalt_Mcgill_Pt044_mrimg_n4corr_l4_it300_mrimg_i512_n4corr_l4_it300_slice_3.png\n",
      "/Users/mavaylon/Research/Results/Davis_Results/UNET/Vanilla/Lipomaalt_Pt026_mrimg_n4corr_l4_it300_mrimg_i512_n4corr_l4_it300_slice_18.png\n",
      "/Users/mavaylon/Research/Results/Davis_Results/UNET/Vanilla/Lipomaalt_Pt026_mrimg_n4corr_l4_it300_mrimg_i512_n4corr_l4_it300_slice_19.png\n",
      "/Users/mavaylon/Research/Results/Davis_Results/UNET/Vanilla/Lipomaalt_Mcgill_Pt044_mrimg_n4corr_l4_it300_mrimg_i512_n4corr_l4_it300_slice_2.png\n",
      "/Users/mavaylon/Research/Results/Davis_Results/UNET/Vanilla/Lipomaalt_Pt026_mrimg_n4corr_l4_it300_mrimg_i512_n4corr_l4_it300_slice_3.png\n",
      "/Users/mavaylon/Research/Results/Davis_Results/UNET/Vanilla/Lipomaalt_Mcgill_Pt053_mrimg_n4corr_l4_it300_mrimg_i512_n4corr_l4_it300_slice_8.png\n",
      "/Users/mavaylon/Research/Results/Davis_Results/UNET/Vanilla/Lipomaalt_Pt026_mrimg_n4corr_l4_it300_mrimg_i512_n4corr_l4_it300_slice_1.png\n",
      "/Users/mavaylon/Research/Results/Davis_Results/UNET/Vanilla/Lipomaalt_Mcgill_Pt044_mrimg_n4corr_l4_it300_mrimg_i512_n4corr_l4_it300_slice_0.png\n",
      "/Users/mavaylon/Research/Results/Davis_Results/UNET/Vanilla/Lipomaalt_Mcgill_Pt044_mrimg_n4corr_l4_it300_mrimg_i512_n4corr_l4_it300_slice_1.png\n",
      "/Users/mavaylon/Research/Results/Davis_Results/UNET/Vanilla/Lipomaalt_Pt026_mrimg_n4corr_l4_it300_mrimg_i512_n4corr_l4_it300_slice_0.png\n",
      "/Users/mavaylon/Research/Results/Davis_Results/UNET/Vanilla/Lipomaalt_Mcgill_Pt053_mrimg_n4corr_l4_it300_mrimg_i512_n4corr_l4_it300_slice_9.png\n",
      "/Users/mavaylon/Research/Results/Davis_Results/UNET/Vanilla/Lipomaalt_Mcgill_Pt053_mrimg_n4corr_l4_it300_mrimg_i512_n4corr_l4_it300_slice_4.png\n",
      "/Users/mavaylon/Research/Results/Davis_Results/UNET/Vanilla/Lipomaalt_Pt026_mrimg_n4corr_l4_it300_mrimg_i512_n4corr_l4_it300_slice_17.png\n",
      "/Users/mavaylon/Research/Results/Davis_Results/UNET/Vanilla/Lipomaalt_Pt026_mrimg_n4corr_l4_it300_mrimg_i512_n4corr_l4_it300_slice_16.png\n",
      "/Users/mavaylon/Research/Results/Davis_Results/UNET/Vanilla/Lipomaalt_Mcgill_Pt053_mrimg_n4corr_l4_it300_mrimg_i512_n4corr_l4_it300_slice_5.png\n",
      "/Users/mavaylon/Research/Results/Davis_Results/UNET/Vanilla/Lipomaalt_Mcgill_Pt053_mrimg_n4corr_l4_it300_mrimg_i512_n4corr_l4_it300_slice_7.png\n",
      "/Users/mavaylon/Research/Results/Davis_Results/UNET/Vanilla/Lipomaalt_Pt026_mrimg_n4corr_l4_it300_mrimg_i512_n4corr_l4_it300_slice_14.png\n",
      "/Users/mavaylon/Research/Results/Davis_Results/UNET/Vanilla/Lipomaalt_Pt026_mrimg_n4corr_l4_it300_mrimg_i512_n4corr_l4_it300_slice_15.png\n",
      "/Users/mavaylon/Research/Results/Davis_Results/UNET/Vanilla/Lipomaalt_Mcgill_Pt053_mrimg_n4corr_l4_it300_mrimg_i512_n4corr_l4_it300_slice_6.png\n",
      "/Users/mavaylon/Research/Results/Davis_Results/UNET/Vanilla/Lipomaalt_Mcgill_Pt053_mrimg_n4corr_l4_it300_mrimg_i512_n4corr_l4_it300_slice_2.png\n",
      "/Users/mavaylon/Research/Results/Davis_Results/UNET/Vanilla/Lipomaalt_Pt026_mrimg_n4corr_l4_it300_mrimg_i512_n4corr_l4_it300_slice_11.png\n",
      "/Users/mavaylon/Research/Results/Davis_Results/UNET/Vanilla/Lipomaalt_Pt026_mrimg_n4corr_l4_it300_mrimg_i512_n4corr_l4_it300_slice_10.png\n",
      "/Users/mavaylon/Research/Results/Davis_Results/UNET/Vanilla/Lipomaalt_Mcgill_Pt053_mrimg_n4corr_l4_it300_mrimg_i512_n4corr_l4_it300_slice_3.png\n",
      "/Users/mavaylon/Research/Results/Davis_Results/UNET/Vanilla/Lipomaalt_Mcgill_Pt053_mrimg_n4corr_l4_it300_mrimg_i512_n4corr_l4_it300_slice_1.png\n",
      "/Users/mavaylon/Research/Results/Davis_Results/UNET/Vanilla/Lipomaalt_Pt026_mrimg_n4corr_l4_it300_mrimg_i512_n4corr_l4_it300_slice_8.png\n",
      "/Users/mavaylon/Research/Results/Davis_Results/UNET/Vanilla/Lipomaalt_Mcgill_Pt044_mrimg_n4corr_l4_it300_mrimg_i512_n4corr_l4_it300_slice_9.png\n",
      "/Users/mavaylon/Research/Results/Davis_Results/UNET/Vanilla/Lipomaalt_Pt026_mrimg_n4corr_l4_it300_mrimg_i512_n4corr_l4_it300_slice_12.png\n",
      "/Users/mavaylon/Research/Results/Davis_Results/UNET/Vanilla/Lipomaalt_Pt026_mrimg_n4corr_l4_it300_mrimg_i512_n4corr_l4_it300_slice_13.png\n",
      "/Users/mavaylon/Research/Results/Davis_Results/UNET/Vanilla/Lipomaalt_Mcgill_Pt044_mrimg_n4corr_l4_it300_mrimg_i512_n4corr_l4_it300_slice_8.png\n",
      "/Users/mavaylon/Research/Results/Davis_Results/UNET/Vanilla/Lipomaalt_Pt026_mrimg_n4corr_l4_it300_mrimg_i512_n4corr_l4_it300_slice_9.png\n",
      "/Users/mavaylon/Research/Results/Davis_Results/UNET/Vanilla/Lipomaalt_Mcgill_Pt053_mrimg_n4corr_l4_it300_mrimg_i512_n4corr_l4_it300_slice_0.png\n",
      "/Users/mavaylon/Research/Results/Davis_Results/UNET/Vanilla/Lipomaalt_Ucsf_Pt044_mrimg_n4corr_l4_it300_mrimg_i512_n4corr_l4_it300_slice_14.png\n",
      "/Users/mavaylon/Research/Results/Davis_Results/UNET/Vanilla/Lipomaalt_Ucirvine_Pt022_mrimg_n4corr_l4_it300_mrimg_i512_n4corr_l4_it300_slice_13.png\n",
      "/Users/mavaylon/Research/Results/Davis_Results/UNET/Vanilla/Lipomaalt_Pt008_mrimg_n4corr_l4_it300_mrimg_i512_n4corr_l4_it300_slice_7.png\n",
      "/Users/mavaylon/Research/Results/Davis_Results/UNET/Vanilla/Lipomaalt_Mcgill_Pt074_mrimg_n4corr_l4_it300_mrimg_i512_n4corr_l4_it300_slice_2.png\n",
      "/Users/mavaylon/Research/Results/Davis_Results/UNET/Vanilla/Lipomaalt_Mcgill_Pt053_mrimg_n4corr_l4_it300_mrimg_i512_n4corr_l4_it300_slice_34.png\n",
      "/Users/mavaylon/Research/Results/Davis_Results/UNET/Vanilla/Lipomaalt_Mcgill_Pt074_mrimg_n4corr_l4_it300_mrimg_i512_n4corr_l4_it300_slice_11.png\n",
      "/Users/mavaylon/Research/Results/Davis_Results/UNET/Vanilla/Lipomaalt_Mcgill_Pt053_mrimg_n4corr_l4_it300_mrimg_i512_n4corr_l4_it300_slice_20.png\n",
      "/Users/mavaylon/Research/Results/Davis_Results/UNET/Vanilla/Lipomaalt_Mcgill_Pt044_mrimg_n4corr_l4_it300_mrimg_i512_n4corr_l4_it300_slice_20.png\n",
      "/Users/mavaylon/Research/Results/Davis_Results/UNET/Vanilla/Lipomaalt_Pt008_mrimg_n4corr_l4_it300_mrimg_i512_n4corr_l4_it300_slice_27.png\n",
      "/Users/mavaylon/Research/Results/Davis_Results/UNET/Vanilla/Lipomaalt_Pt008_mrimg_n4corr_l4_it300_mrimg_i512_n4corr_l4_it300_slice_32.png\n",
      "/Users/mavaylon/Research/Results/Davis_Results/UNET/Vanilla/Lipomaalt_Pt008_mrimg_n4corr_l4_it300_mrimg_i512_n4corr_l4_it300_slice_26.png\n",
      "/Users/mavaylon/Research/Results/Davis_Results/UNET/Vanilla/Lipomaalt_Mcgill_Pt044_mrimg_n4corr_l4_it300_mrimg_i512_n4corr_l4_it300_slice_21.png\n",
      "/Users/mavaylon/Research/Results/Davis_Results/UNET/Vanilla/Lipomaalt_Mcgill_Pt053_mrimg_n4corr_l4_it300_mrimg_i512_n4corr_l4_it300_slice_21.png\n",
      "/Users/mavaylon/Research/Results/Davis_Results/UNET/Vanilla/Lipomaalt_Mcgill_Pt074_mrimg_n4corr_l4_it300_mrimg_i512_n4corr_l4_it300_slice_10.png\n",
      "/Users/mavaylon/Research/Results/Davis_Results/UNET/Vanilla/Lipomaalt_Mcgill_Pt053_mrimg_n4corr_l4_it300_mrimg_i512_n4corr_l4_it300_slice_35.png\n"
     ]
    },
    {
     "name": "stdout",
     "output_type": "stream",
     "text": [
      "/Users/mavaylon/Research/Results/Davis_Results/UNET/Vanilla/Lipomaalt_Mcgill_Pt074_mrimg_n4corr_l4_it300_mrimg_i512_n4corr_l4_it300_slice_3.png\n",
      "/Users/mavaylon/Research/Results/Davis_Results/UNET/Vanilla/Lipomaalt_Pt008_mrimg_n4corr_l4_it300_mrimg_i512_n4corr_l4_it300_slice_6.png\n",
      "/Users/mavaylon/Research/Results/Davis_Results/UNET/Vanilla/Lipomaalt_Ucirvine_Pt022_mrimg_n4corr_l4_it300_mrimg_i512_n4corr_l4_it300_slice_12.png\n",
      "/Users/mavaylon/Research/Results/Davis_Results/UNET/Vanilla/Lipomaalt_Ucsf_Pt044_mrimg_n4corr_l4_it300_mrimg_i512_n4corr_l4_it300_slice_15.png\n",
      "/Users/mavaylon/Research/Results/Davis_Results/UNET/Vanilla/Lipomaalt_Ucirvine_Pt022_mrimg_n4corr_l4_it300_mrimg_i512_n4corr_l4_it300_slice_10.png\n",
      "/Users/mavaylon/Research/Results/Davis_Results/UNET/Vanilla/Lipomaalt_Mcgill_Pt074_mrimg_n4corr_l4_it300_mrimg_i512_n4corr_l4_it300_slice_1.png\n",
      "/Users/mavaylon/Research/Results/Davis_Results/UNET/Vanilla/Lipomaalt_Pt008_mrimg_n4corr_l4_it300_mrimg_i512_n4corr_l4_it300_slice_4.png\n",
      "/Users/mavaylon/Research/Results/Davis_Results/UNET/Vanilla/Lipomaalt_Mcgill_Pt053_mrimg_n4corr_l4_it300_mrimg_i512_n4corr_l4_it300_slice_23.png\n",
      "/Users/mavaylon/Research/Results/Davis_Results/UNET/Vanilla/Lipomaalt_Mcgill_Pt074_mrimg_n4corr_l4_it300_mrimg_i512_n4corr_l4_it300_slice_12.png\n",
      "/Users/mavaylon/Research/Results/Davis_Results/UNET/Vanilla/Lipomaalt_Mcgill_Pt044_mrimg_n4corr_l4_it300_mrimg_i512_n4corr_l4_it300_slice_23.png\n",
      "/Users/mavaylon/Research/Results/Davis_Results/UNET/Vanilla/Lipomaalt_Pt008_mrimg_n4corr_l4_it300_mrimg_i512_n4corr_l4_it300_slice_18.png\n",
      "/Users/mavaylon/Research/Results/Davis_Results/UNET/Vanilla/Lipomaalt_Pt008_mrimg_n4corr_l4_it300_mrimg_i512_n4corr_l4_it300_slice_30.png\n",
      "/Users/mavaylon/Research/Results/Davis_Results/UNET/Vanilla/Lipomaalt_Pt008_mrimg_n4corr_l4_it300_mrimg_i512_n4corr_l4_it300_slice_24.png\n",
      "/Users/mavaylon/Research/Results/Davis_Results/UNET/Vanilla/Lipomaalt_Pt008_mrimg_n4corr_l4_it300_mrimg_i512_n4corr_l4_it300_slice_25.png\n",
      "/Users/mavaylon/Research/Results/Davis_Results/UNET/Vanilla/Lipomaalt_Pt008_mrimg_n4corr_l4_it300_mrimg_i512_n4corr_l4_it300_slice_31.png\n",
      "/Users/mavaylon/Research/Results/Davis_Results/UNET/Vanilla/Lipomaalt_Pt008_mrimg_n4corr_l4_it300_mrimg_i512_n4corr_l4_it300_slice_19.png\n",
      "/Users/mavaylon/Research/Results/Davis_Results/UNET/Vanilla/Lipomaalt_Mcgill_Pt044_mrimg_n4corr_l4_it300_mrimg_i512_n4corr_l4_it300_slice_22.png\n",
      "/Users/mavaylon/Research/Results/Davis_Results/UNET/Vanilla/Lipomaalt_Mcgill_Pt074_mrimg_n4corr_l4_it300_mrimg_i512_n4corr_l4_it300_slice_13.png\n",
      "/Users/mavaylon/Research/Results/Davis_Results/UNET/Vanilla/Lipomaalt_Mcgill_Pt053_mrimg_n4corr_l4_it300_mrimg_i512_n4corr_l4_it300_slice_36.png\n",
      "/Users/mavaylon/Research/Results/Davis_Results/UNET/Vanilla/Lipomaalt_Mcgill_Pt053_mrimg_n4corr_l4_it300_mrimg_i512_n4corr_l4_it300_slice_22.png\n",
      "/Users/mavaylon/Research/Results/Davis_Results/UNET/Vanilla/Lipomaalt_Pt008_mrimg_n4corr_l4_it300_mrimg_i512_n4corr_l4_it300_slice_5.png\n",
      "/Users/mavaylon/Research/Results/Davis_Results/UNET/Vanilla/Lipomaalt_Mcgill_Pt074_mrimg_n4corr_l4_it300_mrimg_i512_n4corr_l4_it300_slice_0.png\n",
      "/Users/mavaylon/Research/Results/Davis_Results/UNET/Vanilla/Lipomaalt_Ucirvine_Pt022_mrimg_n4corr_l4_it300_mrimg_i512_n4corr_l4_it300_slice_11.png\n",
      "/Users/mavaylon/Research/Results/Davis_Results/UNET/Vanilla/Lipomaalt_Ucirvine_Pt022_mrimg_n4corr_l4_it300_mrimg_i512_n4corr_l4_it300_slice_9.png\n",
      "/Users/mavaylon/Research/Results/Davis_Results/UNET/Vanilla/Lipomaalt_Ucsf_Pt044_mrimg_n4corr_l4_it300_mrimg_i512_n4corr_l4_it300_slice_12.png\n",
      "/Users/mavaylon/Research/Results/Davis_Results/UNET/Vanilla/Lipomaalt_Ucirvine_Pt022_mrimg_n4corr_l4_it300_mrimg_i512_n4corr_l4_it300_slice_15.png\n",
      "/Users/mavaylon/Research/Results/Davis_Results/UNET/Vanilla/Lipomaalt_Ucsf_Pt044_mrimg_n4corr_l4_it300_mrimg_i512_n4corr_l4_it300_slice_9.png\n",
      "/Users/mavaylon/Research/Results/Davis_Results/UNET/Vanilla/Lipomaalt_Mcgill_Pt074_mrimg_n4corr_l4_it300_mrimg_i512_n4corr_l4_it300_slice_4.png\n",
      "/Users/mavaylon/Research/Results/Davis_Results/UNET/Vanilla/Lipomaalt_Pt008_mrimg_n4corr_l4_it300_mrimg_i512_n4corr_l4_it300_slice_1.png\n",
      "/Users/mavaylon/Research/Results/Davis_Results/UNET/Vanilla/Lipomaalt_Mcgill_Pt044_mrimg_n4corr_l4_it300_mrimg_i512_n4corr_l4_it300_slice_26.png\n",
      "/Users/mavaylon/Research/Results/Davis_Results/UNET/Vanilla/Lipomaalt_Mcgill_Pt053_mrimg_n4corr_l4_it300_mrimg_i512_n4corr_l4_it300_slice_26.png\n",
      "/Users/mavaylon/Research/Results/Davis_Results/UNET/Vanilla/Lipomaalt_Mcgill_Pt074_mrimg_n4corr_l4_it300_mrimg_i512_n4corr_l4_it300_slice_17.png\n",
      "/Users/mavaylon/Research/Results/Davis_Results/UNET/Vanilla/Lipomaalt_Mcgill_Pt053_mrimg_n4corr_l4_it300_mrimg_i512_n4corr_l4_it300_slice_32.png\n",
      "/Users/mavaylon/Research/Results/Davis_Results/UNET/Vanilla/Lipomaalt_Pt008_mrimg_n4corr_l4_it300_mrimg_i512_n4corr_l4_it300_slice_21.png\n",
      "/Users/mavaylon/Research/Results/Davis_Results/UNET/Vanilla/Lipomaalt_Pt008_mrimg_n4corr_l4_it300_mrimg_i512_n4corr_l4_it300_slice_20.png\n",
      "/Users/mavaylon/Research/Results/Davis_Results/UNET/Vanilla/Lipomaalt_Mcgill_Pt053_mrimg_n4corr_l4_it300_mrimg_i512_n4corr_l4_it300_slice_33.png\n",
      "/Users/mavaylon/Research/Results/Davis_Results/UNET/Vanilla/Lipomaalt_Mcgill_Pt074_mrimg_n4corr_l4_it300_mrimg_i512_n4corr_l4_it300_slice_16.png\n",
      "/Users/mavaylon/Research/Results/Davis_Results/UNET/Vanilla/Lipomaalt_Mcgill_Pt053_mrimg_n4corr_l4_it300_mrimg_i512_n4corr_l4_it300_slice_27.png\n",
      "/Users/mavaylon/Research/Results/Davis_Results/UNET/Vanilla/Lipomaalt_Mcgill_Pt044_mrimg_n4corr_l4_it300_mrimg_i512_n4corr_l4_it300_slice_27.png\n",
      "/Users/mavaylon/Research/Results/Davis_Results/UNET/Vanilla/Lipomaalt_Pt008_mrimg_n4corr_l4_it300_mrimg_i512_n4corr_l4_it300_slice_0.png\n",
      "/Users/mavaylon/Research/Results/Davis_Results/UNET/Vanilla/Lipomaalt_Mcgill_Pt074_mrimg_n4corr_l4_it300_mrimg_i512_n4corr_l4_it300_slice_5.png\n",
      "/Users/mavaylon/Research/Results/Davis_Results/UNET/Vanilla/Lipomaalt_Ucsf_Pt044_mrimg_n4corr_l4_it300_mrimg_i512_n4corr_l4_it300_slice_8.png\n",
      "/Users/mavaylon/Research/Results/Davis_Results/UNET/Vanilla/Lipomaalt_Ucirvine_Pt022_mrimg_n4corr_l4_it300_mrimg_i512_n4corr_l4_it300_slice_14.png\n",
      "/Users/mavaylon/Research/Results/Davis_Results/UNET/Vanilla/Lipomaalt_Ucsf_Pt044_mrimg_n4corr_l4_it300_mrimg_i512_n4corr_l4_it300_slice_13.png\n",
      "/Users/mavaylon/Research/Results/Davis_Results/UNET/Vanilla/Lipomaalt_Ucirvine_Pt022_mrimg_n4corr_l4_it300_mrimg_i512_n4corr_l4_it300_slice_8.png\n",
      "/Users/mavaylon/Research/Results/Davis_Results/UNET/Vanilla/Lipomaalt_Ucsf_Pt044_mrimg_n4corr_l4_it300_mrimg_i512_n4corr_l4_it300_slice_11.png\n",
      "/Users/mavaylon/Research/Results/Davis_Results/UNET/Vanilla/Lipomaalt_Ucirvine_Pt022_mrimg_n4corr_l4_it300_mrimg_i512_n4corr_l4_it300_slice_16.png\n",
      "/Users/mavaylon/Research/Results/Davis_Results/UNET/Vanilla/Lipomaalt_Pt008_mrimg_n4corr_l4_it300_mrimg_i512_n4corr_l4_it300_slice_2.png\n",
      "/Users/mavaylon/Research/Results/Davis_Results/UNET/Vanilla/Lipomaalt_Mcgill_Pt074_mrimg_n4corr_l4_it300_mrimg_i512_n4corr_l4_it300_slice_7.png\n",
      "/Users/mavaylon/Research/Results/Davis_Results/UNET/Vanilla/Lipomaalt_Mcgill_Pt053_mrimg_n4corr_l4_it300_mrimg_i512_n4corr_l4_it300_slice_19.png\n",
      "/Users/mavaylon/Research/Results/Davis_Results/UNET/Vanilla/Lipomaalt_Mcgill_Pt044_mrimg_n4corr_l4_it300_mrimg_i512_n4corr_l4_it300_slice_25.png\n",
      "/Users/mavaylon/Research/Results/Davis_Results/UNET/Vanilla/Lipomaalt_Mcgill_Pt074_mrimg_n4corr_l4_it300_mrimg_i512_n4corr_l4_it300_slice_14.png\n",
      "/Users/mavaylon/Research/Results/Davis_Results/UNET/Vanilla/Lipomaalt_Mcgill_Pt053_mrimg_n4corr_l4_it300_mrimg_i512_n4corr_l4_it300_slice_31.png\n",
      "/Users/mavaylon/Research/Results/Davis_Results/UNET/Vanilla/Lipomaalt_Mcgill_Pt044_mrimg_n4corr_l4_it300_mrimg_i512_n4corr_l4_it300_slice_19.png\n",
      "/Users/mavaylon/Research/Results/Davis_Results/UNET/Vanilla/Lipomaalt_Mcgill_Pt053_mrimg_n4corr_l4_it300_mrimg_i512_n4corr_l4_it300_slice_25.png\n",
      "/Users/mavaylon/Research/Results/Davis_Results/UNET/Vanilla/Lipomaalt_Pt008_mrimg_n4corr_l4_it300_mrimg_i512_n4corr_l4_it300_slice_22.png\n",
      "/Users/mavaylon/Research/Results/Davis_Results/UNET/Vanilla/Lipomaalt_Pt008_mrimg_n4corr_l4_it300_mrimg_i512_n4corr_l4_it300_slice_23.png\n",
      "/Users/mavaylon/Research/Results/Davis_Results/UNET/Vanilla/Lipomaalt_Mcgill_Pt053_mrimg_n4corr_l4_it300_mrimg_i512_n4corr_l4_it300_slice_24.png\n"
     ]
    },
    {
     "name": "stdout",
     "output_type": "stream",
     "text": [
      "/Users/mavaylon/Research/Results/Davis_Results/UNET/Vanilla/Lipomaalt_Mcgill_Pt044_mrimg_n4corr_l4_it300_mrimg_i512_n4corr_l4_it300_slice_18.png\n",
      "/Users/mavaylon/Research/Results/Davis_Results/UNET/Vanilla/Lipomaalt_Mcgill_Pt053_mrimg_n4corr_l4_it300_mrimg_i512_n4corr_l4_it300_slice_30.png\n",
      "/Users/mavaylon/Research/Results/Davis_Results/UNET/Vanilla/Lipomaalt_Mcgill_Pt074_mrimg_n4corr_l4_it300_mrimg_i512_n4corr_l4_it300_slice_15.png\n",
      "/Users/mavaylon/Research/Results/Davis_Results/UNET/Vanilla/Lipomaalt_Mcgill_Pt044_mrimg_n4corr_l4_it300_mrimg_i512_n4corr_l4_it300_slice_24.png\n",
      "/Users/mavaylon/Research/Results/Davis_Results/UNET/Vanilla/Lipomaalt_Mcgill_Pt053_mrimg_n4corr_l4_it300_mrimg_i512_n4corr_l4_it300_slice_18.png\n",
      "/Users/mavaylon/Research/Results/Davis_Results/UNET/Vanilla/Lipomaalt_Mcgill_Pt074_mrimg_n4corr_l4_it300_mrimg_i512_n4corr_l4_it300_slice_6.png\n",
      "/Users/mavaylon/Research/Results/Davis_Results/UNET/Vanilla/Lipomaalt_Pt008_mrimg_n4corr_l4_it300_mrimg_i512_n4corr_l4_it300_slice_3.png\n",
      "/Users/mavaylon/Research/Results/Davis_Results/UNET/Vanilla/Lipomaalt_Ucirvine_Pt022_mrimg_n4corr_l4_it300_mrimg_i512_n4corr_l4_it300_slice_17.png\n",
      "/Users/mavaylon/Research/Results/Davis_Results/UNET/Vanilla/Lipomaalt_Ucsf_Pt044_mrimg_n4corr_l4_it300_mrimg_i512_n4corr_l4_it300_slice_10.png\n"
     ]
    }
   ],
   "source": [
    "import glob\n",
    "\n",
    "img_names = glob.glob('/Users/mavaylon/Research/Davis/Original_Davis/proximal_lower_contrast_test/img/*')\n",
    "\n",
    "for name in img_names:\n",
    "    out_name = \"/Users/mavaylon/Research/Results/Davis_Results/UNET/Vanilla/\" + name.split('/')[-1]\n",
    "    print(out_name)\n",
    "    out = model.predict_segmentation(inp=name, out_fname=out_name)"
   ]
  },
  {
   "cell_type": "code",
   "execution_count": 4,
   "metadata": {},
   "outputs": [],
   "source": [
    "import cv2\n",
    "import matplotlib.pyplot as plt"
   ]
  },
  {
   "cell_type": "code",
   "execution_count": 5,
   "metadata": {},
   "outputs": [],
   "source": [
    "test=cv2.imread('/Users/mavaylon/Research/Results/Davis_Results/UNET/Vanilla/Lipomaalt_Ucirvine_Pt022_mrimg_n4corr_l4_it300_mrimg_i512_n4corr_l4_it300_slice_6.png')"
   ]
  },
  {
   "cell_type": "code",
   "execution_count": 6,
   "metadata": {},
   "outputs": [
    {
     "data": {
      "text/plain": [
       "<matplotlib.image.AxesImage at 0x7fb2afdd23d0>"
      ]
     },
     "execution_count": 6,
     "metadata": {},
     "output_type": "execute_result"
    },
    {
     "data": {
      "image/png": "[encoded data removed]",
      "text/plain": [
       "<Figure size 432x288 with 1 Axes>"
      ]
     },
     "metadata": {
      "needs_background": "light"
     },
     "output_type": "display_data"
    }
   ],
   "source": [
    "plt.imshow(test)"
   ]
  },
  {
   "cell_type": "code",
   "execution_count": 14,
   "metadata": {},
   "outputs": [
    {
     "data": {
      "text/plain": [
       "<matplotlib.image.AxesImage at 0x7fb2b05710d0>"
      ]
     },
     "execution_count": 14,
     "metadata": {},
     "output_type": "execute_result"
    },
    {
     "data": {
      "image/png": "[encoded data removed]",
      "text/plain": [
       "<Figure size 432x288 with 1 Axes>"
      ]
     },
     "metadata": {
      "needs_background": "light"
     },
     "output_type": "display_data"
    }
   ],
   "source": [
    "test_gt=cv2.imread('/Users/mavaylon/Research/Davis/Original_Davis/proximal_lower_contrast_test/ann/Lipomaalt_Ucirvine_Pt022_mrmask_mrmask_i512_n4corr_l4_it300_slice_6.png')\n",
    "plt.imshow(test_gt*100)\n"
   ]
  },
  {
   "cell_type": "code",
   "execution_count": 19,
   "metadata": {},
   "outputs": [
    {
     "data": {
      "text/plain": [
       "<matplotlib.image.AxesImage at 0x7fb2aef51190>"
      ]
     },
     "execution_count": 19,
     "metadata": {},
     "output_type": "execute_result"
    },
    {
     "data": {
      "image/png": "[encoded data removed]",
      "text/plain": [
       "<Figure size 432x288 with 1 Axes>"
      ]
     },
     "metadata": {
      "needs_background": "light"
     },
     "output_type": "display_data"
    }
   ],
   "source": [
    "test2=cv2.imread('/Users/mavaylon/Research/Results/Davis_Results/UNET/Vanilla/Lipomaalt_Mcgill_Pt074_mrimg_n4corr_l4_it300_mrimg_i512_n4corr_l4_it300_slice_18.png')\n",
    "plt.imshow(test2)"
   ]
  },
  {
   "cell_type": "code",
   "execution_count": 20,
   "metadata": {},
   "outputs": [
    {
     "data": {
      "text/plain": [
       "<matplotlib.image.AxesImage at 0x7fb2af03f310>"
      ]
     },
     "execution_count": 20,
     "metadata": {},
     "output_type": "execute_result"
    },
    {
     "data": {
      "image/png": "[encoded data removed]",
      "text/plain": [
       "<Figure size 432x288 with 1 Axes>"
      ]
     },
     "metadata": {
      "needs_background": "light"
     },
     "output_type": "display_data"
    }
   ],
   "source": [
    "test2gt=cv2.imread('/Users/mavaylon/Research/Davis/Original_Davis/proximal_lower_contrast_test/ann/Lipomaalt_Mcgill_Pt074_mrmask_mrmask_i512_n4corr_l4_it300_slice_18.png')\n",
    "plt.imshow(test2gt*100)"
   ]
  },
  {
   "cell_type": "code",
   "execution_count": 27,
   "metadata": {},
   "outputs": [
    {
     "name": "stderr",
     "output_type": "stream",
     "text": [
      "\n",
      "\n",
      "0it [00:00, ?it/s]\u001b[A\u001b[A\n",
      "\n",
      "1it [00:01,  1.50s/it]\u001b[A\u001b[A\n",
      "\n",
      "2it [00:02,  1.49s/it]\u001b[A\u001b[A\n",
      "\n",
      "3it [00:04,  1.48s/it]\u001b[A\u001b[A\n",
      "\n",
      "4it [00:05,  1.47s/it]\u001b[A\u001b[A\n",
      "\n",
      "5it [00:07,  1.47s/it]\u001b[A\u001b[A\n",
      "\n",
      "6it [00:08,  1.50s/it]\u001b[A\u001b[A"
     ]
    },
    {
     "ename": "KeyboardInterrupt",
     "evalue": "",
     "output_type": "error",
     "traceback": [
      "\u001b[0;31m-----------------------------------------------\u001b[0m",
      "\u001b[0;31mKeyboardInterrupt\u001b[0mTraceback (most recent call last)",
      "\u001b[0;32m<ipython-input-27-da26e384df91>\u001b[0m in \u001b[0;36m<module>\u001b[0;34m\u001b[0m\n\u001b[1;32m      6\u001b[0m \u001b[0;31m#     out_name = \"/Users/mavaylon/Research/Results/Davis_Results/UNET/Vanilla/\" + name.split('/')[-1]\u001b[0m\u001b[0;34m\u001b[0m\u001b[0;34m\u001b[0m\u001b[0;34m\u001b[0m\u001b[0m\n\u001b[1;32m      7\u001b[0m \u001b[0;31m#     print(out_name)\u001b[0m\u001b[0;34m\u001b[0m\u001b[0;34m\u001b[0m\u001b[0;34m\u001b[0m\u001b[0m\n\u001b[0;32m----> 8\u001b[0;31m \u001b[0mmodel\u001b[0m\u001b[0;34m.\u001b[0m\u001b[0mevaluate_segmentation\u001b[0m\u001b[0;34m(\u001b[0m\u001b[0minp_images_dir\u001b[0m\u001b[0;34m=\u001b[0m\u001b[0;34m'/Users/mavaylon/Research/Davis/Original_Davis/proximal_lower_contrast_test/img'\u001b[0m\u001b[0;34m,\u001b[0m \u001b[0mannotations_dir\u001b[0m\u001b[0;34m=\u001b[0m\u001b[0;34m'/Users/mavaylon/Research/Davis/Original_Davis/proximal_lower_contrast_test/ann'\u001b[0m\u001b[0;34m)\u001b[0m\u001b[0;34m\u001b[0m\u001b[0;34m\u001b[0m\u001b[0m\n\u001b[0m",
      "\u001b[0;32m~/Research/LBNL_Segmentation_crf/image_segmentation_keras/keras_segmentation/predict.py\u001b[0m in \u001b[0;36mevaluate\u001b[0;34m(model, inp_images, annotations, inp_images_dir, annotations_dir, checkpoints_path)\u001b[0m\n\u001b[1;32m    283\u001b[0m \u001b[0;34m\u001b[0m\u001b[0m\n\u001b[1;32m    284\u001b[0m     \u001b[0;32mfor\u001b[0m \u001b[0minp\u001b[0m\u001b[0;34m,\u001b[0m \u001b[0mann\u001b[0m \u001b[0;32min\u001b[0m \u001b[0mtqdm\u001b[0m\u001b[0;34m(\u001b[0m\u001b[0mzip\u001b[0m\u001b[0;34m(\u001b[0m\u001b[0minp_images\u001b[0m\u001b[0;34m,\u001b[0m \u001b[0mannotations\u001b[0m\u001b[0;34m)\u001b[0m\u001b[0;34m)\u001b[0m\u001b[0;34m:\u001b[0m\u001b[0;34m\u001b[0m\u001b[0;34m\u001b[0m\u001b[0m\n\u001b[0;32m--> 285\u001b[0;31m         \u001b[0mpr\u001b[0m \u001b[0;34m=\u001b[0m \u001b[0mpredict\u001b[0m\u001b[0;34m(\u001b[0m\u001b[0mmodel\u001b[0m\u001b[0;34m,\u001b[0m \u001b[0minp\u001b[0m\u001b[0;34m)\u001b[0m\u001b[0;34m\u001b[0m\u001b[0;34m\u001b[0m\u001b[0m\n\u001b[0m\u001b[1;32m    286\u001b[0m         gt = get_segmentation_array(ann, model.n_classes,\n\u001b[1;32m    287\u001b[0m                                     \u001b[0mmodel\u001b[0m\u001b[0;34m.\u001b[0m\u001b[0moutput_width\u001b[0m\u001b[0;34m,\u001b[0m \u001b[0mmodel\u001b[0m\u001b[0;34m.\u001b[0m\u001b[0moutput_height\u001b[0m\u001b[0;34m,\u001b[0m\u001b[0;34m\u001b[0m\u001b[0;34m\u001b[0m\u001b[0m\n",
      "\u001b[0;32m~/Research/LBNL_Segmentation_crf/image_segmentation_keras/keras_segmentation/predict.py\u001b[0m in \u001b[0;36mpredict\u001b[0;34m(model, inp, out_fname, checkpoints_path, overlay_img, class_names, show_legends, colors, prediction_width, prediction_height)\u001b[0m\n\u001b[1;32m    151\u001b[0m     x = get_image_array(inp, input_width, input_height,\n\u001b[1;32m    152\u001b[0m                         ordering=IMAGE_ORDERING)\n\u001b[0;32m--> 153\u001b[0;31m     \u001b[0mpr\u001b[0m \u001b[0;34m=\u001b[0m \u001b[0mmodel\u001b[0m\u001b[0;34m.\u001b[0m\u001b[0mpredict\u001b[0m\u001b[0;34m(\u001b[0m\u001b[0mnp\u001b[0m\u001b[0;34m.\u001b[0m\u001b[0marray\u001b[0m\u001b[0;34m(\u001b[0m\u001b[0;34m[\u001b[0m\u001b[0mx\u001b[0m\u001b[0;34m]\u001b[0m\u001b[0;34m)\u001b[0m\u001b[0;34m)\u001b[0m\u001b[0;34m[\u001b[0m\u001b[0;36m0\u001b[0m\u001b[0;34m]\u001b[0m\u001b[0;34m\u001b[0m\u001b[0;34m\u001b[0m\u001b[0m\n\u001b[0m\u001b[1;32m    154\u001b[0m     \u001b[0mpr\u001b[0m \u001b[0;34m=\u001b[0m \u001b[0mpr\u001b[0m\u001b[0;34m.\u001b[0m\u001b[0mreshape\u001b[0m\u001b[0;34m(\u001b[0m\u001b[0;34m(\u001b[0m\u001b[0moutput_height\u001b[0m\u001b[0;34m,\u001b[0m  \u001b[0moutput_width\u001b[0m\u001b[0;34m,\u001b[0m \u001b[0mn_classes\u001b[0m\u001b[0;34m)\u001b[0m\u001b[0;34m)\u001b[0m\u001b[0;34m.\u001b[0m\u001b[0margmax\u001b[0m\u001b[0;34m(\u001b[0m\u001b[0maxis\u001b[0m\u001b[0;34m=\u001b[0m\u001b[0;36m2\u001b[0m\u001b[0;34m)\u001b[0m\u001b[0;34m\u001b[0m\u001b[0;34m\u001b[0m\u001b[0m\n\u001b[1;32m    155\u001b[0m \u001b[0;34m\u001b[0m\u001b[0m\n",
      "\u001b[0;32m~/opt/anaconda3/lib/python3.7/site-packages/keras/engine/training.py\u001b[0m in \u001b[0;36mpredict\u001b[0;34m(self, x, batch_size, verbose, steps, callbacks, max_queue_size, workers, use_multiprocessing)\u001b[0m\n\u001b[1;32m   1460\u001b[0m                                             \u001b[0mverbose\u001b[0m\u001b[0;34m=\u001b[0m\u001b[0mverbose\u001b[0m\u001b[0;34m,\u001b[0m\u001b[0;34m\u001b[0m\u001b[0;34m\u001b[0m\u001b[0m\n\u001b[1;32m   1461\u001b[0m                                             \u001b[0msteps\u001b[0m\u001b[0;34m=\u001b[0m\u001b[0msteps\u001b[0m\u001b[0;34m,\u001b[0m\u001b[0;34m\u001b[0m\u001b[0;34m\u001b[0m\u001b[0m\n\u001b[0;32m-> 1462\u001b[0;31m                                             callbacks=callbacks)\n\u001b[0m\u001b[1;32m   1463\u001b[0m \u001b[0;34m\u001b[0m\u001b[0m\n\u001b[1;32m   1464\u001b[0m     def train_on_batch(self, x, y,\n",
      "\u001b[0;32m~/opt/anaconda3/lib/python3.7/site-packages/keras/engine/training_arrays.py\u001b[0m in \u001b[0;36mpredict_loop\u001b[0;34m(model, f, ins, batch_size, verbose, steps, callbacks)\u001b[0m\n\u001b[1;32m    322\u001b[0m             \u001b[0mbatch_logs\u001b[0m \u001b[0;34m=\u001b[0m \u001b[0;34m{\u001b[0m\u001b[0;34m'batch'\u001b[0m\u001b[0;34m:\u001b[0m \u001b[0mbatch_index\u001b[0m\u001b[0;34m,\u001b[0m \u001b[0;34m'size'\u001b[0m\u001b[0;34m:\u001b[0m \u001b[0mlen\u001b[0m\u001b[0;34m(\u001b[0m\u001b[0mbatch_ids\u001b[0m\u001b[0;34m)\u001b[0m\u001b[0;34m}\u001b[0m\u001b[0;34m\u001b[0m\u001b[0;34m\u001b[0m\u001b[0m\n\u001b[1;32m    323\u001b[0m             \u001b[0mcallbacks\u001b[0m\u001b[0;34m.\u001b[0m\u001b[0m_call_batch_hook\u001b[0m\u001b[0;34m(\u001b[0m\u001b[0;34m'predict'\u001b[0m\u001b[0;34m,\u001b[0m \u001b[0;34m'begin'\u001b[0m\u001b[0;34m,\u001b[0m \u001b[0mbatch_index\u001b[0m\u001b[0;34m,\u001b[0m \u001b[0mbatch_logs\u001b[0m\u001b[0;34m)\u001b[0m\u001b[0;34m\u001b[0m\u001b[0;34m\u001b[0m\u001b[0m\n\u001b[0;32m--> 324\u001b[0;31m             \u001b[0mbatch_outs\u001b[0m \u001b[0;34m=\u001b[0m \u001b[0mf\u001b[0m\u001b[0;34m(\u001b[0m\u001b[0mins_batch\u001b[0m\u001b[0;34m)\u001b[0m\u001b[0;34m\u001b[0m\u001b[0;34m\u001b[0m\u001b[0m\n\u001b[0m\u001b[1;32m    325\u001b[0m             \u001b[0mbatch_outs\u001b[0m \u001b[0;34m=\u001b[0m \u001b[0mto_list\u001b[0m\u001b[0;34m(\u001b[0m\u001b[0mbatch_outs\u001b[0m\u001b[0;34m)\u001b[0m\u001b[0;34m\u001b[0m\u001b[0;34m\u001b[0m\u001b[0m\n\u001b[1;32m    326\u001b[0m             \u001b[0;32mif\u001b[0m \u001b[0mbatch_index\u001b[0m \u001b[0;34m==\u001b[0m \u001b[0;36m0\u001b[0m\u001b[0;34m:\u001b[0m\u001b[0;34m\u001b[0m\u001b[0;34m\u001b[0m\u001b[0m\n",
      "\u001b[0;32m~/opt/anaconda3/lib/python3.7/site-packages/tensorflow/python/keras/backend.py\u001b[0m in \u001b[0;36m__call__\u001b[0;34m(self, inputs)\u001b[0m\n\u001b[1;32m   3790\u001b[0m         \u001b[0mvalue\u001b[0m \u001b[0;34m=\u001b[0m \u001b[0mmath_ops\u001b[0m\u001b[0;34m.\u001b[0m\u001b[0mcast\u001b[0m\u001b[0;34m(\u001b[0m\u001b[0mvalue\u001b[0m\u001b[0;34m,\u001b[0m \u001b[0mtensor\u001b[0m\u001b[0;34m.\u001b[0m\u001b[0mdtype\u001b[0m\u001b[0;34m)\u001b[0m\u001b[0;34m\u001b[0m\u001b[0;34m\u001b[0m\u001b[0m\n\u001b[1;32m   3791\u001b[0m       \u001b[0mconverted_inputs\u001b[0m\u001b[0;34m.\u001b[0m\u001b[0mappend\u001b[0m\u001b[0;34m(\u001b[0m\u001b[0mvalue\u001b[0m\u001b[0;34m)\u001b[0m\u001b[0;34m\u001b[0m\u001b[0;34m\u001b[0m\u001b[0m\n\u001b[0;32m-> 3792\u001b[0;31m     \u001b[0moutputs\u001b[0m \u001b[0;34m=\u001b[0m \u001b[0mself\u001b[0m\u001b[0;34m.\u001b[0m\u001b[0m_graph_fn\u001b[0m\u001b[0;34m(\u001b[0m\u001b[0;34m*\u001b[0m\u001b[0mconverted_inputs\u001b[0m\u001b[0;34m)\u001b[0m\u001b[0;34m\u001b[0m\u001b[0;34m\u001b[0m\u001b[0m\n\u001b[0m\u001b[1;32m   3793\u001b[0m \u001b[0;34m\u001b[0m\u001b[0m\n\u001b[1;32m   3794\u001b[0m     \u001b[0;31m# EagerTensor.numpy() will often make a copy to ensure memory safety.\u001b[0m\u001b[0;34m\u001b[0m\u001b[0;34m\u001b[0m\u001b[0;34m\u001b[0m\u001b[0m\n",
      "\u001b[0;32m~/opt/anaconda3/lib/python3.7/site-packages/tensorflow/python/eager/function.py\u001b[0m in \u001b[0;36m__call__\u001b[0;34m(self, *args, **kwargs)\u001b[0m\n\u001b[1;32m   1603\u001b[0m       \u001b[0mTypeError\u001b[0m\u001b[0;34m:\u001b[0m \u001b[0mFor\u001b[0m \u001b[0minvalid\u001b[0m \u001b[0mpositional\u001b[0m\u001b[0;34m/\u001b[0m\u001b[0mkeyword\u001b[0m \u001b[0margument\u001b[0m \u001b[0mcombinations\u001b[0m\u001b[0;34m.\u001b[0m\u001b[0;34m\u001b[0m\u001b[0;34m\u001b[0m\u001b[0m\n\u001b[1;32m   1604\u001b[0m     \"\"\"\n\u001b[0;32m-> 1605\u001b[0;31m     \u001b[0;32mreturn\u001b[0m \u001b[0mself\u001b[0m\u001b[0;34m.\u001b[0m\u001b[0m_call_impl\u001b[0m\u001b[0;34m(\u001b[0m\u001b[0margs\u001b[0m\u001b[0;34m,\u001b[0m \u001b[0mkwargs\u001b[0m\u001b[0;34m)\u001b[0m\u001b[0;34m\u001b[0m\u001b[0;34m\u001b[0m\u001b[0m\n\u001b[0m\u001b[1;32m   1606\u001b[0m \u001b[0;34m\u001b[0m\u001b[0m\n\u001b[1;32m   1607\u001b[0m   \u001b[0;32mdef\u001b[0m \u001b[0m_call_impl\u001b[0m\u001b[0;34m(\u001b[0m\u001b[0mself\u001b[0m\u001b[0;34m,\u001b[0m \u001b[0margs\u001b[0m\u001b[0;34m,\u001b[0m \u001b[0mkwargs\u001b[0m\u001b[0;34m,\u001b[0m \u001b[0mcancellation_manager\u001b[0m\u001b[0;34m=\u001b[0m\u001b[0;32mNone\u001b[0m\u001b[0;34m)\u001b[0m\u001b[0;34m:\u001b[0m\u001b[0;34m\u001b[0m\u001b[0;34m\u001b[0m\u001b[0m\n",
      "\u001b[0;32m~/opt/anaconda3/lib/python3.7/site-packages/tensorflow/python/eager/function.py\u001b[0m in \u001b[0;36m_call_impl\u001b[0;34m(self, args, kwargs, cancellation_manager)\u001b[0m\n\u001b[1;32m   1643\u001b[0m       raise TypeError(\"Keyword arguments {} unknown. Expected {}.\".format(\n\u001b[1;32m   1644\u001b[0m           list(kwargs.keys()), list(self._arg_keywords)))\n\u001b[0;32m-> 1645\u001b[0;31m     \u001b[0;32mreturn\u001b[0m \u001b[0mself\u001b[0m\u001b[0;34m.\u001b[0m\u001b[0m_call_flat\u001b[0m\u001b[0;34m(\u001b[0m\u001b[0margs\u001b[0m\u001b[0;34m,\u001b[0m \u001b[0mself\u001b[0m\u001b[0;34m.\u001b[0m\u001b[0mcaptured_inputs\u001b[0m\u001b[0;34m,\u001b[0m \u001b[0mcancellation_manager\u001b[0m\u001b[0;34m)\u001b[0m\u001b[0;34m\u001b[0m\u001b[0;34m\u001b[0m\u001b[0m\n\u001b[0m\u001b[1;32m   1646\u001b[0m \u001b[0;34m\u001b[0m\u001b[0m\n\u001b[1;32m   1647\u001b[0m   \u001b[0;32mdef\u001b[0m \u001b[0m_filtered_call\u001b[0m\u001b[0;34m(\u001b[0m\u001b[0mself\u001b[0m\u001b[0;34m,\u001b[0m \u001b[0margs\u001b[0m\u001b[0;34m,\u001b[0m \u001b[0mkwargs\u001b[0m\u001b[0;34m)\u001b[0m\u001b[0;34m:\u001b[0m\u001b[0;34m\u001b[0m\u001b[0;34m\u001b[0m\u001b[0m\n",
      "\u001b[0;32m~/opt/anaconda3/lib/python3.7/site-packages/tensorflow/python/eager/function.py\u001b[0m in \u001b[0;36m_call_flat\u001b[0;34m(self, args, captured_inputs, cancellation_manager)\u001b[0m\n\u001b[1;32m   1744\u001b[0m       \u001b[0;31m# No tape is watching; skip to running the function.\u001b[0m\u001b[0;34m\u001b[0m\u001b[0;34m\u001b[0m\u001b[0;34m\u001b[0m\u001b[0m\n\u001b[1;32m   1745\u001b[0m       return self._build_call_outputs(self._inference_function.call(\n\u001b[0;32m-> 1746\u001b[0;31m           ctx, args, cancellation_manager=cancellation_manager))\n\u001b[0m\u001b[1;32m   1747\u001b[0m     forward_backward = self._select_forward_and_backward_functions(\n\u001b[1;32m   1748\u001b[0m         \u001b[0margs\u001b[0m\u001b[0;34m,\u001b[0m\u001b[0;34m\u001b[0m\u001b[0;34m\u001b[0m\u001b[0m\n",
      "\u001b[0;32m~/opt/anaconda3/lib/python3.7/site-packages/tensorflow/python/eager/function.py\u001b[0m in \u001b[0;36mcall\u001b[0;34m(self, ctx, args, cancellation_manager)\u001b[0m\n\u001b[1;32m    596\u001b[0m               \u001b[0minputs\u001b[0m\u001b[0;34m=\u001b[0m\u001b[0margs\u001b[0m\u001b[0;34m,\u001b[0m\u001b[0;34m\u001b[0m\u001b[0;34m\u001b[0m\u001b[0m\n\u001b[1;32m    597\u001b[0m               \u001b[0mattrs\u001b[0m\u001b[0;34m=\u001b[0m\u001b[0mattrs\u001b[0m\u001b[0;34m,\u001b[0m\u001b[0;34m\u001b[0m\u001b[0;34m\u001b[0m\u001b[0m\n\u001b[0;32m--> 598\u001b[0;31m               ctx=ctx)\n\u001b[0m\u001b[1;32m    599\u001b[0m         \u001b[0;32melse\u001b[0m\u001b[0;34m:\u001b[0m\u001b[0;34m\u001b[0m\u001b[0;34m\u001b[0m\u001b[0m\n\u001b[1;32m    600\u001b[0m           outputs = execute.execute_with_cancellation(\n",
      "\u001b[0;32m~/opt/anaconda3/lib/python3.7/site-packages/tensorflow/python/eager/execute.py\u001b[0m in \u001b[0;36mquick_execute\u001b[0;34m(op_name, num_outputs, inputs, attrs, ctx, name)\u001b[0m\n\u001b[1;32m     58\u001b[0m     \u001b[0mctx\u001b[0m\u001b[0;34m.\u001b[0m\u001b[0mensure_initialized\u001b[0m\u001b[0;34m(\u001b[0m\u001b[0;34m)\u001b[0m\u001b[0;34m\u001b[0m\u001b[0;34m\u001b[0m\u001b[0m\n\u001b[1;32m     59\u001b[0m     tensors = pywrap_tfe.TFE_Py_Execute(ctx._handle, device_name, op_name,\n\u001b[0;32m---> 60\u001b[0;31m                                         inputs, attrs, num_outputs)\n\u001b[0m\u001b[1;32m     61\u001b[0m   \u001b[0;32mexcept\u001b[0m \u001b[0mcore\u001b[0m\u001b[0;34m.\u001b[0m\u001b[0m_NotOkStatusException\u001b[0m \u001b[0;32mas\u001b[0m \u001b[0me\u001b[0m\u001b[0;34m:\u001b[0m\u001b[0;34m\u001b[0m\u001b[0;34m\u001b[0m\u001b[0m\n\u001b[1;32m     62\u001b[0m     \u001b[0;32mif\u001b[0m \u001b[0mname\u001b[0m \u001b[0;32mis\u001b[0m \u001b[0;32mnot\u001b[0m \u001b[0;32mNone\u001b[0m\u001b[0;34m:\u001b[0m\u001b[0;34m\u001b[0m\u001b[0;34m\u001b[0m\u001b[0m\n",
      "\u001b[0;31mKeyboardInterrupt\u001b[0m: "
     ]
    }
   ],
   "source": [
    "# import glob\n",
    "\n",
    "# img_names = glob.glob('/Users/mavaylon/Research/Davis/Original_Davis/proximal_lower_contrast_test/img/*')\n",
    "\n",
    "# for name in img_names:\n",
    "#     out_name = \"/Users/mavaylon/Research/Results/Davis_Results/UNET/Vanilla/\" + name.split('/')[-1]\n",
    "#     print(out_name)\n",
    "model.evaluate_segmentation(inp_images_dir='/Users/mavaylon/Research/Davis/Original_Davis/proximal_lower_contrast_test/img', annotations_dir='/Users/mavaylon/Research/Davis/Original_Davis/proximal_lower_contrast_test/ann')"
   ]
  },
  {
   "cell_type": "code",
   "execution_count": null,
   "metadata": {},
   "outputs": [],
   "source": []
  }
 ],
 "metadata": {
  "kernelspec": {
   "display_name": "Python 3",
   "language": "python",
   "name": "python3"
  },
  "language_info": {
   "codemirror_mode": {
    "name": "ipython",
    "version": 3
   },
   "file_extension": ".py",
   "mimetype": "text/x-python",
   "name": "python",
   "nbconvert_exporter": "python",
   "pygments_lexer": "ipython3",
   "version": "3.7.6"
  }
 },
 "nbformat": 4,
 "nbformat_minor": 4
}
